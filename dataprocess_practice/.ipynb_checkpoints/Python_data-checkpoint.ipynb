{
 "cells": [
  {
   "cell_type": "code",
   "execution_count": 59,
   "id": "8ca8478b-0853-4798-aa0d-870eebef97a6",
   "metadata": {},
   "outputs": [
    {
     "name": "stdout",
     "output_type": "stream",
     "text": [
      "      Unnamed: 0 Country Name  Year  Agriculture, value added (% of GDP)  \\\n",
      "0              0  Afghanistan  1962                                  NaN   \n",
      "1              1  Afghanistan  1967                                  NaN   \n",
      "2              2  Afghanistan  1972                                  NaN   \n",
      "3              3  Afghanistan  1977                                  NaN   \n",
      "4              4  Afghanistan  1982                                  NaN   \n",
      "...          ...          ...   ...                                  ...   \n",
      "2602        2602     Zimbabwe  1987                            14.407528   \n",
      "2603        2603     Zimbabwe  1992                             7.413793   \n",
      "2604        2604     Zimbabwe  1997                            18.934082   \n",
      "2605        2605     Zimbabwe  2002                            14.029007   \n",
      "2606        2606     Zimbabwe  2007                            21.597907   \n",
      "\n",
      "      CO2 emissions (metric tons per capita)  \\\n",
      "0                                   0.073781   \n",
      "1                                   0.123782   \n",
      "2                                   0.130820   \n",
      "3                                   0.183118   \n",
      "4                                   0.165879   \n",
      "...                                      ...   \n",
      "2602                                1.598217   \n",
      "2603                                1.533724   \n",
      "2604                                1.194678   \n",
      "2605                                0.942795   \n",
      "2606                                0.743449   \n",
      "\n",
      "      Domestic credit provided by financial sector (% of GDP)  \\\n",
      "0                                             21.276422         \n",
      "1                                              9.917662         \n",
      "2                                             18.880833         \n",
      "3                                             13.836822         \n",
      "4                                                   NaN         \n",
      "...                                                 ...         \n",
      "2602                                          74.161607         \n",
      "2603                                          43.120518         \n",
      "2604                                          63.058320         \n",
      "2605                                         164.559047         \n",
      "2606                                                NaN         \n",
      "\n",
      "      Electric power consumption (kWh per capita)  \\\n",
      "0                                             NaN   \n",
      "1                                             NaN   \n",
      "2                                             NaN   \n",
      "3                                             NaN   \n",
      "4                                             NaN   \n",
      "...                                           ...   \n",
      "2602                                   878.072691   \n",
      "2603                                   778.695133   \n",
      "2604                                   870.988697   \n",
      "2605                                   827.329873   \n",
      "2606                                   700.642317   \n",
      "\n",
      "      Energy use (kg of oil equivalent per capita)  \\\n",
      "0                                              NaN   \n",
      "1                                              NaN   \n",
      "2                                              NaN   \n",
      "3                                              NaN   \n",
      "4                                              NaN   \n",
      "...                                            ...   \n",
      "2602                                    896.673611   \n",
      "2603                                    923.493407   \n",
      "2604                                    804.508892   \n",
      "2605                                    772.676619   \n",
      "2606                                    725.681049   \n",
      "\n",
      "      Exports of goods and services (% of GDP)  \\\n",
      "0                                     4.878051   \n",
      "1                                     6.772908   \n",
      "2                                    14.763231   \n",
      "3                                    11.662904   \n",
      "4                                          NaN   \n",
      "...                                        ...   \n",
      "2602                                 24.015710   \n",
      "2603                                 27.227263   \n",
      "2604                                 37.595273   \n",
      "2605                                 31.834799   \n",
      "2606                                 37.785373   \n",
      "\n",
      "      Fertility rate, total (births per woman)  GDP growth (annual %)  \\\n",
      "0                                        7.450                    NaN   \n",
      "1                                        7.450                    NaN   \n",
      "2                                        7.450                    NaN   \n",
      "3                                        7.449                    NaN   \n",
      "4                                        7.450                    NaN   \n",
      "...                                        ...                    ...   \n",
      "2602                                     5.784               1.150737   \n",
      "2603                                     4.840              -9.015570   \n",
      "2604                                     4.237               2.680594   \n",
      "2605                                     4.018              -8.894023   \n",
      "2606                                     4.022              -3.653327   \n",
      "\n",
      "      Imports of goods and services (% of GDP)  \\\n",
      "0                                     9.349593   \n",
      "1                                    14.209827   \n",
      "2                                    18.105850   \n",
      "3                                    14.823175   \n",
      "4                                          NaN   \n",
      "...                                        ...   \n",
      "2602                                 21.274886   \n",
      "2603                                 36.485231   \n",
      "2604                                 44.609791   \n",
      "2605                                 34.972553   \n",
      "2606                                 46.387531   \n",
      "\n",
      "      Industry, value added (% of GDP)  Inflation, GDP deflator (annual %)  \\\n",
      "0                                  NaN                                 NaN   \n",
      "1                                  NaN                                 NaN   \n",
      "2                                  NaN                                 NaN   \n",
      "3                                  NaN                                 NaN   \n",
      "4                                  NaN                                 NaN   \n",
      "...                                ...                                 ...   \n",
      "2602                         32.451242                            7.189361   \n",
      "2603                         40.862069                          -14.129659   \n",
      "2604                         25.554678                           -2.879048   \n",
      "2605                               NaN                            2.712950   \n",
      "2606                         33.074953                            0.894887   \n",
      "\n",
      "      Life expectancy at birth, total (years)  \\\n",
      "0                                   33.219902   \n",
      "1                                   35.389415   \n",
      "2                                   37.610146   \n",
      "3                                   40.110146   \n",
      "4                                   43.230732   \n",
      "...                                       ...   \n",
      "2602                                61.753805   \n",
      "2603                                56.491976   \n",
      "2604                                46.065902   \n",
      "2605                                40.679146   \n",
      "2606                                44.177756   \n",
      "\n",
      "      Population density (people per sq. km of land area)  \\\n",
      "0                                             14.312061     \n",
      "1                                             15.881812     \n",
      "2                                             17.947027     \n",
      "3                                             19.998926     \n",
      "4                                             19.402324     \n",
      "...                                                 ...     \n",
      "2602                                          24.649495     \n",
      "2603                                          28.485762     \n",
      "2604                                          31.174507     \n",
      "2605                                          32.807111     \n",
      "2606                                          34.374559     \n",
      "\n",
      "      Services, etc., value added (% of GDP)         pop continent   gdpPercap  \n",
      "0                                        NaN  10267083.0      Asia  853.100710  \n",
      "1                                        NaN  11537966.0      Asia  836.197138  \n",
      "2                                        NaN  13079460.0      Asia  739.981106  \n",
      "3                                        NaN  14880372.0      Asia  786.113360  \n",
      "4                                        NaN  12881816.0      Asia  978.011439  \n",
      "...                                      ...         ...       ...         ...  \n",
      "2602                               53.141236   9216418.0    Africa  706.157306  \n",
      "2603                               51.724135  10704340.0    Africa  693.420786  \n",
      "2604                               55.511236  11404948.0    Africa  792.449960  \n",
      "2605                                     NaN  11926563.0    Africa  672.038623  \n",
      "2606                               45.327139  12311143.0    Africa  469.709298  \n",
      "\n",
      "[2607 rows x 20 columns]\n"
     ]
    }
   ],
   "source": [
    "# 1.Read in the gapminder_clean.csv data as a pandas DataFrame.\n",
    "import pandas as pd\n",
    "df = pd.read_csv(r\"C:\\Users\\User\\Downloads\\gapminder_clean.csv\")\n",
    "print(df)"
   ]
  },
  {
   "cell_type": "code",
   "execution_count": 60,
   "id": "8c2d5492-7f12-4cd1-ba8f-4bc1104b31de",
   "metadata": {},
   "outputs": [
    {
     "name": "stdout",
     "output_type": "stream",
     "text": [
      "      Unnamed: 0    Country Name  Year  Agriculture, value added (% of GDP)  \\\n",
      "0              0     Afghanistan  1962                                  NaN   \n",
      "10            10         Albania  1962                                  NaN   \n",
      "20            20         Algeria  1962                                  NaN   \n",
      "30            30  American Samoa  1962                                  NaN   \n",
      "40            40         Andorra  1962                                  NaN   \n",
      "...          ...             ...   ...                                  ...   \n",
      "2553        2553  Virgin Islands  1962                                  NaN   \n",
      "2567        2567           World  1962                                  NaN   \n",
      "2577        2577     Yemen, Rep.  1962                                  NaN   \n",
      "2587        2587          Zambia  1962                                  NaN   \n",
      "2597        2597        Zimbabwe  1962                                  NaN   \n",
      "\n",
      "      CO2 emissions (metric tons per capita)  \\\n",
      "0                                   0.073781   \n",
      "10                                  1.439956   \n",
      "20                                  0.484954   \n",
      "30                                       NaN   \n",
      "40                                       NaN   \n",
      "...                                      ...   \n",
      "2553                                     NaN   \n",
      "2567                                3.134694   \n",
      "2577                                0.728004   \n",
      "2587                                     NaN   \n",
      "2597                                     NaN   \n",
      "\n",
      "      Domestic credit provided by financial sector (% of GDP)  \\\n",
      "0                                             21.276422         \n",
      "10                                                  NaN         \n",
      "20                                                  NaN         \n",
      "30                                                  NaN         \n",
      "40                                                  NaN         \n",
      "...                                                 ...         \n",
      "2553                                                NaN         \n",
      "2567                                          75.777409         \n",
      "2577                                                NaN         \n",
      "2587                                                NaN         \n",
      "2597                                                NaN         \n",
      "\n",
      "      Electric power consumption (kWh per capita)  \\\n",
      "0                                             NaN   \n",
      "10                                            NaN   \n",
      "20                                            NaN   \n",
      "30                                            NaN   \n",
      "40                                            NaN   \n",
      "...                                           ...   \n",
      "2553                                          NaN   \n",
      "2567                                          NaN   \n",
      "2577                                          NaN   \n",
      "2587                                          NaN   \n",
      "2597                                          NaN   \n",
      "\n",
      "      Energy use (kg of oil equivalent per capita)  \\\n",
      "0                                              NaN   \n",
      "10                                             NaN   \n",
      "20                                             NaN   \n",
      "30                                             NaN   \n",
      "40                                             NaN   \n",
      "...                                            ...   \n",
      "2553                                           NaN   \n",
      "2567                                           NaN   \n",
      "2577                                           NaN   \n",
      "2587                                           NaN   \n",
      "2597                                           NaN   \n",
      "\n",
      "      Exports of goods and services (% of GDP)  \\\n",
      "0                                     4.878051   \n",
      "10                                         NaN   \n",
      "20                                   19.793873   \n",
      "30                                         NaN   \n",
      "40                                         NaN   \n",
      "...                                        ...   \n",
      "2553                                       NaN   \n",
      "2567                                 11.651114   \n",
      "2577                                       NaN   \n",
      "2587                                       NaN   \n",
      "2597                                       NaN   \n",
      "\n",
      "      Fertility rate, total (births per woman)  GDP growth (annual %)  \\\n",
      "0                                     7.450000                    NaN   \n",
      "10                                    6.282000                    NaN   \n",
      "20                                    7.614000             -19.685042   \n",
      "30                                         NaN                    NaN   \n",
      "40                                         NaN                    NaN   \n",
      "...                                        ...                    ...   \n",
      "2553                                  5.679000                    NaN   \n",
      "2567                                  5.030386               5.549853   \n",
      "2577                                  7.437000                    NaN   \n",
      "2587                                  7.127000              -2.490840   \n",
      "2597                                  7.267000               1.434471   \n",
      "\n",
      "      Imports of goods and services (% of GDP)  \\\n",
      "0                                     9.349593   \n",
      "10                                         NaN   \n",
      "20                                   20.818647   \n",
      "30                                         NaN   \n",
      "40                                         NaN   \n",
      "...                                        ...   \n",
      "2553                                       NaN   \n",
      "2567                                 11.916013   \n",
      "2577                                       NaN   \n",
      "2587                                       NaN   \n",
      "2597                                       NaN   \n",
      "\n",
      "      Industry, value added (% of GDP)  Inflation, GDP deflator (annual %)  \\\n",
      "0                                  NaN                                 NaN   \n",
      "10                                 NaN                                 NaN   \n",
      "20                                 NaN                            2.351279   \n",
      "30                                 NaN                                 NaN   \n",
      "40                                 NaN                                 NaN   \n",
      "...                                ...                                 ...   \n",
      "2553                               NaN                                 NaN   \n",
      "2567                               NaN                                 NaN   \n",
      "2577                               NaN                                 NaN   \n",
      "2587                               NaN                            2.091562   \n",
      "2597                               NaN                            0.469618   \n",
      "\n",
      "      Life expectancy at birth, total (years)  \\\n",
      "0                                   33.219902   \n",
      "10                                  64.162854   \n",
      "20                                  47.045000   \n",
      "30                                        NaN   \n",
      "40                                        NaN   \n",
      "...                                       ...   \n",
      "2553                                64.462561   \n",
      "2567                                53.404890   \n",
      "2577                                34.739561   \n",
      "2587                                45.853659   \n",
      "2597                                52.277902   \n",
      "\n",
      "      Population density (people per sq. km of land area)  \\\n",
      "0                                             14.312061     \n",
      "10                                            62.456898     \n",
      "20                                             4.908240     \n",
      "30                                           105.590000     \n",
      "40                                            32.714894     \n",
      "...                                                 ...     \n",
      "2553                                         103.714286     \n",
      "2567                                          24.120006     \n",
      "2577                                          10.112857     \n",
      "2587                                           4.359305     \n",
      "2597                                          10.356112     \n",
      "\n",
      "      Services, etc., value added (% of GDP)         pop continent  \\\n",
      "0                                        NaN  10267083.0      Asia   \n",
      "10                                       NaN   1728137.0    Europe   \n",
      "20                                       NaN  11000948.0    Africa   \n",
      "30                                       NaN         NaN       NaN   \n",
      "40                                       NaN         NaN       NaN   \n",
      "...                                      ...         ...       ...   \n",
      "2553                                     NaN         NaN       NaN   \n",
      "2567                                     NaN         NaN       NaN   \n",
      "2577                                     NaN         NaN       NaN   \n",
      "2587                                     NaN   3421000.0    Africa   \n",
      "2597                                     NaN   4277736.0    Africa   \n",
      "\n",
      "        gdpPercap  \n",
      "0      853.100710  \n",
      "10    2312.888958  \n",
      "20    2550.816880  \n",
      "30            NaN  \n",
      "40            NaN  \n",
      "...           ...  \n",
      "2553          NaN  \n",
      "2567          NaN  \n",
      "2577          NaN  \n",
      "2587  1452.725766  \n",
      "2597   527.272182  \n",
      "\n",
      "[259 rows x 20 columns]\n"
     ]
    }
   ],
   "source": [
    "# 2. Filter the data to include only rows where Year is 1962 and then make a scatter plot comparing 'CO2 emissions (metric tons per capita)' and gdpPercap for the filtered data.\n",
    "# Filter the data to include only rows where Year is 1962 \n",
    "# and then make a scatter plot comparing 'CO2 emissions (metric tons per capita)' and gdpPercap for the filtered data\n",
    "df_1962 = df[df[\"Year\"] == 1962]\n",
    "print(df_1962)"
   ]
  },
  {
   "cell_type": "code",
   "execution_count": 61,
   "id": "4a6efa92-f803-4684-be0c-6cc84addaaf3",
   "metadata": {},
   "outputs": [
    {
     "data": {
      "image/png": "[encoded data removed]",
      "text/plain": [
       "<Figure size 800x600 with 1 Axes>"
      ]
     },
     "metadata": {},
     "output_type": "display_data"
    }
   ],
   "source": [
    "import matplotlib.pyplot as plt\n",
    "import seaborn as sns\n",
    "plt.figure(figsize = (8,6))\n",
    "sns.scatterplot(\n",
    "    data = df_1962,\n",
    "    x = \"gdpPercap\",\n",
    "    y = \"CO2 emissions (metric tons per capita)\")\n",
    "plt.title = \"CO2 emissions vs gdpPercap\"\n",
    "plt.xlabel = \"gdpPercap\"\n",
    "plt.ylalbel = \"CO2 emissions (metric tons per capita)\"\n",
    "plt.grid(1)\n",
    "plt.show()"
   ]
  },
  {
   "cell_type": "code",
   "execution_count": 62,
   "id": "eb5d9b1f-d44b-460e-936a-392caeb56512",
   "metadata": {},
   "outputs": [
    {
     "data": {
      "image/png": "[encoded data removed]",
      "text/plain": [
       "<Figure size 800x600 with 1 Axes>"
      ]
     },
     "metadata": {},
     "output_type": "display_data"
    }
   ],
   "source": [
    "import matplotlib.pyplot as plt\n",
    "import seaborn as sns\n",
    "plt.figure(figsize = (8,6))\n",
    "plt.scatter(\n",
    "    df_1962[\"gdpPercap\"],\n",
    "    df_1962[\"CO2 emissions (metric tons per capita)\"],\n",
    "    alpha = 0.9)\n",
    "plt.title = \"CO2 emissions vs gdpPercap\"\n",
    "plt.xlabel = \"gdpPercap\"\n",
    "plt.ylalbel = \"CO2 emissions (metric tons per capita)\"\n",
    "plt.grid(1)\n",
    "plt.show()"
   ]
  },
  {
   "cell_type": "code",
   "execution_count": 63,
   "id": "aec5af56-a498-4701-a5cf-d2d302bb20d9",
   "metadata": {},
   "outputs": [
    {
     "name": "stdout",
     "output_type": "stream",
     "text": [
      "Correlation coefficient:  0.9261\n",
      "P value:  1.1287e-46\n"
     ]
    }
   ],
   "source": [
    "# 3. On the filtered data, calculate the correlation of 'CO2 emissions (metric tons per capita)' and gdpPercap. What is the correlation and associated p value?\n",
    "from scipy.stats import pearsonr\n",
    "subset = df_1962[[\"gdpPercap\",\"CO2 emissions (metric tons per capita)\"]].dropna()\n",
    "corr, pval = pearsonr(subset[\"gdpPercap\"], subset[\"CO2 emissions (metric tons per capita)\"])\n",
    "print(f\"Correlation coefficient: {corr: .4f}\")\n",
    "print(f\"P value: {pval: .4e}\")"
   ]
  },
  {
   "cell_type": "code",
   "execution_count": 64,
   "id": "2bba1668-d7a3-48f2-9851-45265abe87a9",
   "metadata": {},
   "outputs": [
    {
     "name": "stdout",
     "output_type": "stream",
     "text": [
      "      Unnamed: 0    Country Name  Year  Agriculture, value added (% of GDP)  \\\n",
      "1              1     Afghanistan  1967                                  NaN   \n",
      "11            11         Albania  1967                                  NaN   \n",
      "21            21         Algeria  1967                            10.330666   \n",
      "31            31  American Samoa  1967                                  NaN   \n",
      "41            41         Andorra  1967                                  NaN   \n",
      "...          ...             ...   ...                                  ...   \n",
      "2554        2554  Virgin Islands  1967                                  NaN   \n",
      "2568        2568           World  1967                                  NaN   \n",
      "2578        2578     Yemen, Rep.  1967                                  NaN   \n",
      "2588        2588          Zambia  1967                            14.025086   \n",
      "2598        2598        Zimbabwe  1967                            22.894205   \n",
      "\n",
      "      CO2 emissions (metric tons per capita)  \\\n",
      "1                                   0.123782   \n",
      "11                                  1.363746   \n",
      "21                                  0.632118   \n",
      "31                                       NaN   \n",
      "41                                       NaN   \n",
      "...                                      ...   \n",
      "2554                                     NaN   \n",
      "2568                                3.572234   \n",
      "2578                                0.524197   \n",
      "2588                                1.263628   \n",
      "2598                                1.122961   \n",
      "\n",
      "      Domestic credit provided by financial sector (% of GDP)  \\\n",
      "1                                              9.917662         \n",
      "11                                                  NaN         \n",
      "21                                            27.977088         \n",
      "31                                                  NaN         \n",
      "41                                                  NaN         \n",
      "...                                                 ...         \n",
      "2554                                                NaN         \n",
      "2568                                          81.208938         \n",
      "2578                                                NaN         \n",
      "2588                                           3.047798         \n",
      "2598                                                NaN         \n",
      "\n",
      "      Electric power consumption (kWh per capita)  \\\n",
      "1                                             NaN   \n",
      "11                                            NaN   \n",
      "21                                            NaN   \n",
      "31                                            NaN   \n",
      "41                                            NaN   \n",
      "...                                           ...   \n",
      "2554                                          NaN   \n",
      "2568                                          NaN   \n",
      "2578                                          NaN   \n",
      "2588                                          NaN   \n",
      "2598                                          NaN   \n",
      "\n",
      "      Energy use (kg of oil equivalent per capita)  \\\n",
      "1                                              NaN   \n",
      "11                                             NaN   \n",
      "21                                             NaN   \n",
      "31                                             NaN   \n",
      "41                                             NaN   \n",
      "...                                            ...   \n",
      "2554                                           NaN   \n",
      "2568                                           NaN   \n",
      "2578                                           NaN   \n",
      "2588                                           NaN   \n",
      "2598                                           NaN   \n",
      "\n",
      "      Exports of goods and services (% of GDP)  \\\n",
      "1                                     6.772908   \n",
      "11                                         NaN   \n",
      "21                                   23.434417   \n",
      "31                                         NaN   \n",
      "41                                         NaN   \n",
      "...                                        ...   \n",
      "2554                                       NaN   \n",
      "2568                                 12.041638   \n",
      "2578                                       NaN   \n",
      "2588                                       NaN   \n",
      "2598                                       NaN   \n",
      "\n",
      "      Fertility rate, total (births per woman)  GDP growth (annual %)  \\\n",
      "1                                     7.450000                    NaN   \n",
      "11                                    5.394000                    NaN   \n",
      "21                                    7.672000               9.452963   \n",
      "31                                         NaN                    NaN   \n",
      "41                                         NaN                    NaN   \n",
      "...                                        ...                    ...   \n",
      "2554                                  5.561000                    NaN   \n",
      "2568                                  4.978353               4.387782   \n",
      "2578                                  7.654000                    NaN   \n",
      "2588                                  7.376000               7.919696   \n",
      "2598                                  7.403000               8.367009   \n",
      "\n",
      "      Imports of goods and services (% of GDP)  \\\n",
      "1                                    14.209827   \n",
      "11                                         NaN   \n",
      "21                                   21.631769   \n",
      "31                                         NaN   \n",
      "41                                         NaN   \n",
      "...                                        ...   \n",
      "2554                                       NaN   \n",
      "2568                                 12.509896   \n",
      "2578                                       NaN   \n",
      "2588                                       NaN   \n",
      "2598                                       NaN   \n",
      "\n",
      "      Industry, value added (% of GDP)  Inflation, GDP deflator (annual %)  \\\n",
      "1                                  NaN                                 NaN   \n",
      "11                                 NaN                                 NaN   \n",
      "21                           42.385889                            1.312041   \n",
      "31                                 NaN                                 NaN   \n",
      "41                                 NaN                                 NaN   \n",
      "...                                ...                                 ...   \n",
      "2554                               NaN                                 NaN   \n",
      "2568                               NaN                                 NaN   \n",
      "2578                               NaN                                 NaN   \n",
      "2588                         56.932725                            0.262875   \n",
      "2598                         29.366888                            0.576562   \n",
      "\n",
      "      Life expectancy at birth, total (years)  \\\n",
      "1                                   35.389415   \n",
      "11                                  66.287220   \n",
      "21                                  49.187512   \n",
      "31                                        NaN   \n",
      "41                                        NaN   \n",
      "...                                       ...   \n",
      "2554                                66.462463   \n",
      "2568                                56.734565   \n",
      "2578                                38.420195   \n",
      "2588                                47.681463   \n",
      "2598                                53.945439   \n",
      "\n",
      "      Population density (people per sq. km of land area)  \\\n",
      "1                                             15.881812     \n",
      "11                                            71.737153     \n",
      "21                                             5.606908     \n",
      "31                                           125.580000     \n",
      "41                                            44.159574     \n",
      "...                                                 ...     \n",
      "2554                                         145.142857     \n",
      "2568                                          26.713726     \n",
      "2578                                          11.037034     \n",
      "2588                                           5.102119     \n",
      "2598                                          12.197524     \n",
      "\n",
      "      Services, etc., value added (% of GDP)         pop continent  \\\n",
      "1                                        NaN  11537966.0      Asia   \n",
      "11                                       NaN   1984060.0    Europe   \n",
      "21                                 47.283450  12760499.0    Africa   \n",
      "31                                       NaN         NaN       NaN   \n",
      "41                                       NaN         NaN       NaN   \n",
      "...                                      ...         ...       ...   \n",
      "2554                                     NaN         NaN       NaN   \n",
      "2568                                     NaN         NaN       NaN   \n",
      "2578                                     NaN         NaN       NaN   \n",
      "2588                               29.042189   3900000.0    Africa   \n",
      "2598                               47.738900   4995432.0    Africa   \n",
      "\n",
      "        gdpPercap  \n",
      "1      836.197138  \n",
      "11    2760.196931  \n",
      "21    3246.991771  \n",
      "31            NaN  \n",
      "41            NaN  \n",
      "...           ...  \n",
      "2554          NaN  \n",
      "2568          NaN  \n",
      "2578          NaN  \n",
      "2588  1777.077318  \n",
      "2598   569.795071  \n",
      "\n",
      "[259 rows x 20 columns]\n"
     ]
    }
   ],
   "source": [
    "# 4. On the unfiltered data, answer \"In what year is the correlation between 'CO2 emissions (metric tons per capita)' and gdpPercap the strongest?\" Filter the dataset to that year for the next step...\n",
    "df_cln = df.dropna(subset = ['gdpPercap', 'CO2 emissions (metric tons per capita)'])\n",
    "cors = []\n",
    "for year, group in df_cln.groupby(\"Year\"):\n",
    "    corr, _ = pearsonr(group[\"gdpPercap\"], group[\"CO2 emissions (metric tons per capita)\"])\n",
    "    cors.append((year, corr))\n",
    "corr_df = pd.DataFrame(cors, columns = ['Year', 'Correlations'])\n",
    "max_cor_row = corr_df.loc[corr_df['Correlations'].idxmax()]\n",
    "best_year = max_cor_row['Year']\n",
    "best_corr = max_cor_row['Correlations']\n",
    "df_best = df[df['Year'] == best_year]\n",
    "print(df_best)\n"
   ]
  },
  {
   "cell_type": "code",
   "execution_count": 65,
   "id": "7b997f57-93d1-40f1-a199-a6b47d1f2b01",
   "metadata": {},
   "outputs": [
    {
     "data": {
      "application/vnd.plotly.v1+json": {
       "config": {
        "plotlyServerURL": "https://plot.ly"
       },
       "data": [
        {
         "hovertemplate": "continent=Asia<br>gdpPercap=%{x}<br>CO2 emissions (metric tons per capita)=%{y}<br>pop=%{marker.size}<extra></extra>",
         "legendgroup": "Asia",
         "marker": {
          "color": "#636efa",
          "size": [
           11537966,
           202182,
           62821884,
           6960067,
           754550000,
           506000000,
           109343000,
           8519282,
           2693585,
           100825279,
           1255058,
           575003,
           2186894,
           10154878,
           1149500,
           25870271,
           11261690,
           714775,
           60641899,
           35356600,
           5618198,
           1977600,
           11737396,
           34024249,
           39463910
          ],
          "sizemode": "area",
          "sizeref": 471593.75,
          "symbol": "circle"
         },
         "mode": "markers",
         "name": "Asia",
         "orientation": "v",
         "showlegend": true,
         "type": "scatter",
         "x": [
          836.1971382,
          14804.6727,
          721.1860862000001,
          523.4323142,
          612.7056934,
          700.7706107000001,
          762.4317721,
          8931.459811,
          8393.741404,
          9847.788607,
          2741.796252,
          80894.88326,
          6006.983042,
          2277.742396,
          1226.04113,
          349,
          676.4422254,
          4720.942687,
          942.4082588,
          1814.12743,
          16903.04886,
          4977.41854,
          1135.514326,
          1295.46066,
          637.1232887
         ],
         "xaxis": "x",
         "y": [
          0.123782381421,
          5.12101242081,
          null,
          0.0624360387486,
          0.574162146975,
          0.331763432432,
          0.23191547809,
          2.05575631533,
          4.93341748634,
          4.86355784562,
          1.0719834839700002,
          43.4283027016,
          1.64225486815,
          null,
          1.83477215037,
          0.143519517019,
          0.0188098863912,
          0.205537806177,
          0.402522332305,
          0.555413076261,
          4.90876421118,
          1.54645934466,
          0.25192412202,
          0.360202673298,
          0.574906353177
         ],
         "yaxis": "y"
        },
        {
         "hovertemplate": "continent=Europe<br>gdpPercap=%{x}<br>CO2 emissions (metric tons per capita)=%{y}<br>pop=%{marker.size}<extra></extra>",
         "legendgroup": "Europe",
         "marker": {
          "color": "#EF553B",
          "size": [
           1984060,
           7376998,
           9556500,
           3585000,
           8310226,
           4174366,
           9835109,
           4838800,
           4605744,
           49569000,
           76368453,
           8716441,
           10223422,
           198676,
           2900100,
           52667100,
           501035,
           12596822,
           3786019,
           31785378,
           9103000,
           19284814,
           7971222,
           4442238,
           1646912,
           32850275,
           7867931,
           6063000,
           33411317,
           54959000
          ],
          "sizemode": "area",
          "sizeref": 471593.75,
          "symbol": "circle"
         },
         "mode": "markers",
         "name": "Europe",
         "orientation": "v",
         "showlegend": true,
         "type": "scatter",
         "x": [
          2760.196931,
          12834.6024,
          13149.04119,
          2172.3524230000003,
          5577.0028,
          6960.297861,
          11399.44489,
          15937.21123,
          10921.63626,
          12999.91766,
          14745.62561,
          8513.097016,
          9326.64467,
          13319.89568,
          7655.568963,
          10022.40131,
          5907.850937,
          15363.25136,
          16361.87647,
          6557.152776,
          6361.517993,
          6470.866545,
          7991.707066,
          8412.902397,
          9405.489397,
          7993.512294,
          15258.29697,
          22966.14432,
          2826.3563870000003,
          14142.85089
         ],
         "xaxis": "x",
         "y": [
          1.36374630011,
          5.41773672705,
          11.2172567535,
          null,
          6.63836916108,
          null,
          null,
          10.1493005476,
          6.21338658857,
          7.3064221599,
          null,
          2.24941398567,
          5.758242269149999,
          7.269387323839999,
          5.65504728764,
          4.43148255688,
          null,
          8.47605463669,
          5.1072949704,
          8.105834013680001,
          1.39828723131,
          4.71631855487,
          null,
          null,
          null,
          2.64722755876,
          8.770023402589999,
          5.43460087436,
          1.03313907211,
          10.7841045545
         ],
         "yaxis": "y"
        },
        {
         "hovertemplate": "continent=Africa<br>gdpPercap=%{x}<br>CO2 emissions (metric tons per capita)=%{y}<br>pop=%{marker.size}<extra></extra>",
         "legendgroup": "Africa",
         "marker": {
          "color": "#00cc96",
          "size": [
           12760499,
           5247469,
           2427334,
           553541,
           5127935,
           3330989,
           6335506,
           1733638,
           3495967,
           217378,
           4744870,
           127617,
           259864,
           1820319,
           27860297,
           489004,
           8490213,
           3451418,
           601287,
           10191512,
           996380,
           1279406,
           1759224,
           6334556,
           4147252,
           5212416,
           1230542,
           789309,
           14770296,
           8680909,
           706640,
           4534062,
           47287752,
           3451079,
           70787,
           3965841,
           2662190,
           3428839,
           20997321,
           12716129,
           420690,
           12607312,
           1735550,
           4786986,
           8900294,
           3900000,
           4995432
          ],
          "sizemode": "area",
          "sizeref": 471593.75,
          "symbol": "circle"
         },
         "mode": "markers",
         "name": "Africa",
         "orientation": "v",
         "showlegend": true,
         "type": "scatter",
         "x": [
          3246.991771,
          5522.776375,
          1035.831411,
          1214.709294,
          794.8265597,
          412.97751360000007,
          1508.453148,
          1136.056615,
          1196.810565,
          1876.029643,
          2052.050473,
          3020.050513,
          915.5960025,
          468.7949699,
          516.1186438,
          8358.761987,
          1125.69716,
          708.7595409,
          715.5806402000001,
          1056.736457,
          498.6390265,
          713.6036482999999,
          18772.75169,
          1634.047282,
          495.5147806,
          545.0098873,
          1421.145193,
          2475.387562,
          1711.04477,
          566.6691539,
          3793.694753,
          1054.384891,
          1014.514104,
          510.9637142,
          1384.840593,
          1612.404632,
          1206.043465,
          1284.7331800000002,
          7114.477970999999,
          1687.997641,
          2613.101665,
          848.2186575,
          1477.59676,
          1932.3601670000005,
          908.9185217,
          1777.077318,
          569.7950712
         ],
         "xaxis": "x",
         "y": [
          0.632118426889,
          0.166658588848,
          0.0523195961148,
          null,
          0.0192168474009,
          0.0147354429891,
          0.0729810151442,
          0.0533441408437,
          0.0341490827003,
          0.0856623590204,
          0.324270273072,
          0.669756398256,
          0.0908814105401,
          null,
          0.0408827807982,
          1.82744493336,
          0.185683744295,
          0.180529006335,
          0.0707397168393,
          0.266146233454,
          null,
          0.465652918101,
          9.94130993774,
          0.138895338975,
          0.086039155676,
          0.0392007077217,
          0.188179057955,
          0.6361795955439999,
          0.3615857767970001,
          0.216165510896,
          null,
          0.0318543481335,
          0.244682890582,
          0.0118002652184999,
          0.1620797359809999,
          0.181319271624,
          0.105440879922,
          0.0704483235701,
          6.46564779364,
          0.250771072594,
          0.55253014742,
          0.141879278158,
          0.10672264605,
          0.638870927594,
          0.0944460734361,
          1.2636279603,
          1.12296052314
         ],
         "yaxis": "y"
        },
        {
         "hovertemplate": "continent=Americas<br>gdpPercap=%{x}<br>CO2 emissions (metric tons per capita)=%{y}<br>pop=%{marker.size}<extra></extra>",
         "legendgroup": "Americas",
         "marker": {
          "color": "#FFA15A",
          "size": [
           22934225,
           4040665,
           88049823,
           20819767,
           8858908,
           19764027,
           1588717,
           8139332,
           4049146,
           5432424,
           3232927,
           4690773,
           4318137,
           2500689,
           1861096,
           47995559,
           1865490,
           1405486,
           2287985,
           12132200,
           2648961,
           960155,
           198712000,
           2748579
          ],
          "sizemode": "area",
          "sizeref": 471593.75,
          "symbol": "circle"
         },
         "mode": "markers",
         "name": "Americas",
         "orientation": "v",
         "showlegend": true,
         "type": "scatter",
         "x": [
          8052.953020999999,
          2586.886053,
          3429.864357,
          16076.58803,
          5106.654313,
          2678.729839,
          4161.727834,
          5690.268015,
          1653.7230029999998,
          4579.074215,
          4358.595393,
          3242.531147,
          1452.057666,
          2538.269358,
          6124.703450999999,
          5754.733883,
          4643.393534000001,
          4421.009084,
          2299.376311,
          5788.09333,
          6929.277714,
          5621.368472,
          19530.36557,
          5444.61962
         ],
         "xaxis": "x",
         "y": [
          2.85816254619,
          0.446569679542,
          0.744966530874,
          13.8103545953,
          2.1409901271900003,
          1.21683476874,
          0.517145991263,
          1.90593276713,
          0.380469161164,
          0.465781970972,
          0.342459705043,
          0.397317380131,
          0.0585660070754,
          0.352498584235,
          2.14463346178,
          1.8996986330400003,
          0.493983688604,
          1.21812383412,
          0.213013396786,
          1.1118562074299998,
          null,
          5.00989828473,
          18.5983178822,
          1.77610139003
         ],
         "yaxis": "y"
        },
        {
         "hovertemplate": "continent=Oceania<br>gdpPercap=%{x}<br>CO2 emissions (metric tons per capita)=%{y}<br>pop=%{marker.size}<extra></extra>",
         "legendgroup": "Oceania",
         "marker": {
          "color": "#19d3f3",
          "size": [
           11872264,
           2728150
          ],
          "sizemode": "area",
          "sizeref": 471593.75,
          "symbol": "circle"
         },
         "mode": "markers",
         "name": "Oceania",
         "orientation": "v",
         "showlegend": true,
         "type": "scatter",
         "x": [
          14526.12465,
          14463.918930000002
         ],
         "xaxis": "x",
         "y": [
          10.9556247987,
          5.00761352373
         ],
         "yaxis": "y"
        }
       ],
       "layout": {
        "legend": {
         "itemsizing": "constant",
         "title": {
          "text": "continent"
         },
         "tracegroupgap": 0
        },
        "template": {
         "data": {
          "bar": [
           {
            "error_x": {
             "color": "#2a3f5f"
            },
            "error_y": {
             "color": "#2a3f5f"
            },
            "marker": {
             "line": {
              "color": "#E5ECF6",
              "width": 0.5
             },
             "pattern": {
              "fillmode": "overlay",
              "size": 10,
              "solidity": 0.2
             }
            },
            "type": "bar"
           }
          ],
          "barpolar": [
           {
            "marker": {
             "line": {
              "color": "#E5ECF6",
              "width": 0.5
             },
             "pattern": {
              "fillmode": "overlay",
              "size": 10,
              "solidity": 0.2
             }
            },
            "type": "barpolar"
           }
          ],
          "carpet": [
           {
            "aaxis": {
             "endlinecolor": "#2a3f5f",
             "gridcolor": "white",
             "linecolor": "white",
             "minorgridcolor": "white",
             "startlinecolor": "#2a3f5f"
            },
            "baxis": {
             "endlinecolor": "#2a3f5f",
             "gridcolor": "white",
             "linecolor": "white",
             "minorgridcolor": "white",
             "startlinecolor": "#2a3f5f"
            },
            "type": "carpet"
           }
          ],
          "choropleth": [
           {
            "colorbar": {
             "outlinewidth": 0,
             "ticks": ""
            },
            "type": "choropleth"
           }
          ],
          "contour": [
           {
            "colorbar": {
             "outlinewidth": 0,
             "ticks": ""
            },
            "colorscale": [
             [
              0,
              "#0d0887"
             ],
             [
              0.1111111111111111,
              "#46039f"
             ],
             [
              0.2222222222222222,
              "#7201a8"
             ],
             [
              0.3333333333333333,
              "#9c179e"
             ],
             [
              0.4444444444444444,
              "#bd3786"
             ],
             [
              0.5555555555555556,
              "#d8576b"
             ],
             [
              0.6666666666666666,
              "#ed7953"
             ],
             [
              0.7777777777777778,
              "#fb9f3a"
             ],
             [
              0.8888888888888888,
              "#fdca26"
             ],
             [
              1,
              "#f0f921"
             ]
            ],
            "type": "contour"
           }
          ],
          "contourcarpet": [
           {
            "colorbar": {
             "outlinewidth": 0,
             "ticks": ""
            },
            "type": "contourcarpet"
           }
          ],
          "heatmap": [
           {
            "colorbar": {
             "outlinewidth": 0,
             "ticks": ""
            },
            "colorscale": [
             [
              0,
              "#0d0887"
             ],
             [
              0.1111111111111111,
              "#46039f"
             ],
             [
              0.2222222222222222,
              "#7201a8"
             ],
             [
              0.3333333333333333,
              "#9c179e"
             ],
             [
              0.4444444444444444,
              "#bd3786"
             ],
             [
              0.5555555555555556,
              "#d8576b"
             ],
             [
              0.6666666666666666,
              "#ed7953"
             ],
             [
              0.7777777777777778,
              "#fb9f3a"
             ],
             [
              0.8888888888888888,
              "#fdca26"
             ],
             [
              1,
              "#f0f921"
             ]
            ],
            "type": "heatmap"
           }
          ],
          "heatmapgl": [
           {
            "colorbar": {
             "outlinewidth": 0,
             "ticks": ""
            },
            "colorscale": [
             [
              0,
              "#0d0887"
             ],
             [
              0.1111111111111111,
              "#46039f"
             ],
             [
              0.2222222222222222,
              "#7201a8"
             ],
             [
              0.3333333333333333,
              "#9c179e"
             ],
             [
              0.4444444444444444,
              "#bd3786"
             ],
             [
              0.5555555555555556,
              "#d8576b"
             ],
             [
              0.6666666666666666,
              "#ed7953"
             ],
             [
              0.7777777777777778,
              "#fb9f3a"
             ],
             [
              0.8888888888888888,
              "#fdca26"
             ],
             [
              1,
              "#f0f921"
             ]
            ],
            "type": "heatmapgl"
           }
          ],
          "histogram": [
           {
            "marker": {
             "pattern": {
              "fillmode": "overlay",
              "size": 10,
              "solidity": 0.2
             }
            },
            "type": "histogram"
           }
          ],
          "histogram2d": [
           {
            "colorbar": {
             "outlinewidth": 0,
             "ticks": ""
            },
            "colorscale": [
             [
              0,
              "#0d0887"
             ],
             [
              0.1111111111111111,
              "#46039f"
             ],
             [
              0.2222222222222222,
              "#7201a8"
             ],
             [
              0.3333333333333333,
              "#9c179e"
             ],
             [
              0.4444444444444444,
              "#bd3786"
             ],
             [
              0.5555555555555556,
              "#d8576b"
             ],
             [
              0.6666666666666666,
              "#ed7953"
             ],
             [
              0.7777777777777778,
              "#fb9f3a"
             ],
             [
              0.8888888888888888,
              "#fdca26"
             ],
             [
              1,
              "#f0f921"
             ]
            ],
            "type": "histogram2d"
           }
          ],
          "histogram2dcontour": [
           {
            "colorbar": {
             "outlinewidth": 0,
             "ticks": ""
            },
            "colorscale": [
             [
              0,
              "#0d0887"
             ],
             [
              0.1111111111111111,
              "#46039f"
             ],
             [
              0.2222222222222222,
              "#7201a8"
             ],
             [
              0.3333333333333333,
              "#9c179e"
             ],
             [
              0.4444444444444444,
              "#bd3786"
             ],
             [
              0.5555555555555556,
              "#d8576b"
             ],
             [
              0.6666666666666666,
              "#ed7953"
             ],
             [
              0.7777777777777778,
              "#fb9f3a"
             ],
             [
              0.8888888888888888,
              "#fdca26"
             ],
             [
              1,
              "#f0f921"
             ]
            ],
            "type": "histogram2dcontour"
           }
          ],
          "mesh3d": [
           {
            "colorbar": {
             "outlinewidth": 0,
             "ticks": ""
            },
            "type": "mesh3d"
           }
          ],
          "parcoords": [
           {
            "line": {
             "colorbar": {
              "outlinewidth": 0,
              "ticks": ""
             }
            },
            "type": "parcoords"
           }
          ],
          "pie": [
           {
            "automargin": true,
            "type": "pie"
           }
          ],
          "scatter": [
           {
            "fillpattern": {
             "fillmode": "overlay",
             "size": 10,
             "solidity": 0.2
            },
            "type": "scatter"
           }
          ],
          "scatter3d": [
           {
            "line": {
             "colorbar": {
              "outlinewidth": 0,
              "ticks": ""
             }
            },
            "marker": {
             "colorbar": {
              "outlinewidth": 0,
              "ticks": ""
             }
            },
            "type": "scatter3d"
           }
          ],
          "scattercarpet": [
           {
            "marker": {
             "colorbar": {
              "outlinewidth": 0,
              "ticks": ""
             }
            },
            "type": "scattercarpet"
           }
          ],
          "scattergeo": [
           {
            "marker": {
             "colorbar": {
              "outlinewidth": 0,
              "ticks": ""
             }
            },
            "type": "scattergeo"
           }
          ],
          "scattergl": [
           {
            "marker": {
             "colorbar": {
              "outlinewidth": 0,
              "ticks": ""
             }
            },
            "type": "scattergl"
           }
          ],
          "scattermapbox": [
           {
            "marker": {
             "colorbar": {
              "outlinewidth": 0,
              "ticks": ""
             }
            },
            "type": "scattermapbox"
           }
          ],
          "scatterpolar": [
           {
            "marker": {
             "colorbar": {
              "outlinewidth": 0,
              "ticks": ""
             }
            },
            "type": "scatterpolar"
           }
          ],
          "scatterpolargl": [
           {
            "marker": {
             "colorbar": {
              "outlinewidth": 0,
              "ticks": ""
             }
            },
            "type": "scatterpolargl"
           }
          ],
          "scatterternary": [
           {
            "marker": {
             "colorbar": {
              "outlinewidth": 0,
              "ticks": ""
             }
            },
            "type": "scatterternary"
           }
          ],
          "surface": [
           {
            "colorbar": {
             "outlinewidth": 0,
             "ticks": ""
            },
            "colorscale": [
             [
              0,
              "#0d0887"
             ],
             [
              0.1111111111111111,
              "#46039f"
             ],
             [
              0.2222222222222222,
              "#7201a8"
             ],
             [
              0.3333333333333333,
              "#9c179e"
             ],
             [
              0.4444444444444444,
              "#bd3786"
             ],
             [
              0.5555555555555556,
              "#d8576b"
             ],
             [
              0.6666666666666666,
              "#ed7953"
             ],
             [
              0.7777777777777778,
              "#fb9f3a"
             ],
             [
              0.8888888888888888,
              "#fdca26"
             ],
             [
              1,
              "#f0f921"
             ]
            ],
            "type": "surface"
           }
          ],
          "table": [
           {
            "cells": {
             "fill": {
              "color": "#EBF0F8"
             },
             "line": {
              "color": "white"
             }
            },
            "header": {
             "fill": {
              "color": "#C8D4E3"
             },
             "line": {
              "color": "white"
             }
            },
            "type": "table"
           }
          ]
         },
         "layout": {
          "annotationdefaults": {
           "arrowcolor": "#2a3f5f",
           "arrowhead": 0,
           "arrowwidth": 1
          },
          "autotypenumbers": "strict",
          "coloraxis": {
           "colorbar": {
            "outlinewidth": 0,
            "ticks": ""
           }
          },
          "colorscale": {
           "diverging": [
            [
             0,
             "#8e0152"
            ],
            [
             0.1,
             "#c51b7d"
            ],
            [
             0.2,
             "#de77ae"
            ],
            [
             0.3,
             "#f1b6da"
            ],
            [
             0.4,
             "#fde0ef"
            ],
            [
             0.5,
             "#f7f7f7"
            ],
            [
             0.6,
             "#e6f5d0"
            ],
            [
             0.7,
             "#b8e186"
            ],
            [
             0.8,
             "#7fbc41"
            ],
            [
             0.9,
             "#4d9221"
            ],
            [
             1,
             "#276419"
            ]
           ],
           "sequential": [
            [
             0,
             "#0d0887"
            ],
            [
             0.1111111111111111,
             "#46039f"
            ],
            [
             0.2222222222222222,
             "#7201a8"
            ],
            [
             0.3333333333333333,
             "#9c179e"
            ],
            [
             0.4444444444444444,
             "#bd3786"
            ],
            [
             0.5555555555555556,
             "#d8576b"
            ],
            [
             0.6666666666666666,
             "#ed7953"
            ],
            [
             0.7777777777777778,
             "#fb9f3a"
            ],
            [
             0.8888888888888888,
             "#fdca26"
            ],
            [
             1,
             "#f0f921"
            ]
           ],
           "sequentialminus": [
            [
             0,
             "#0d0887"
            ],
            [
             0.1111111111111111,
             "#46039f"
            ],
            [
             0.2222222222222222,
             "#7201a8"
            ],
            [
             0.3333333333333333,
             "#9c179e"
            ],
            [
             0.4444444444444444,
             "#bd3786"
            ],
            [
             0.5555555555555556,
             "#d8576b"
            ],
            [
             0.6666666666666666,
             "#ed7953"
            ],
            [
             0.7777777777777778,
             "#fb9f3a"
            ],
            [
             0.8888888888888888,
             "#fdca26"
            ],
            [
             1,
             "#f0f921"
            ]
           ]
          },
          "colorway": [
           "#636efa",
           "#EF553B",
           "#00cc96",
           "#ab63fa",
           "#FFA15A",
           "#19d3f3",
           "#FF6692",
           "#B6E880",
           "#FF97FF",
           "#FECB52"
          ],
          "font": {
           "color": "#2a3f5f"
          },
          "geo": {
           "bgcolor": "white",
           "lakecolor": "white",
           "landcolor": "#E5ECF6",
           "showlakes": true,
           "showland": true,
           "subunitcolor": "white"
          },
          "hoverlabel": {
           "align": "left"
          },
          "hovermode": "closest",
          "mapbox": {
           "style": "light"
          },
          "paper_bgcolor": "white",
          "plot_bgcolor": "#E5ECF6",
          "polar": {
           "angularaxis": {
            "gridcolor": "white",
            "linecolor": "white",
            "ticks": ""
           },
           "bgcolor": "#E5ECF6",
           "radialaxis": {
            "gridcolor": "white",
            "linecolor": "white",
            "ticks": ""
           }
          },
          "scene": {
           "xaxis": {
            "backgroundcolor": "#E5ECF6",
            "gridcolor": "white",
            "gridwidth": 2,
            "linecolor": "white",
            "showbackground": true,
            "ticks": "",
            "zerolinecolor": "white"
           },
           "yaxis": {
            "backgroundcolor": "#E5ECF6",
            "gridcolor": "white",
            "gridwidth": 2,
            "linecolor": "white",
            "showbackground": true,
            "ticks": "",
            "zerolinecolor": "white"
           },
           "zaxis": {
            "backgroundcolor": "#E5ECF6",
            "gridcolor": "white",
            "gridwidth": 2,
            "linecolor": "white",
            "showbackground": true,
            "ticks": "",
            "zerolinecolor": "white"
           }
          },
          "shapedefaults": {
           "line": {
            "color": "#2a3f5f"
           }
          },
          "ternary": {
           "aaxis": {
            "gridcolor": "white",
            "linecolor": "white",
            "ticks": ""
           },
           "baxis": {
            "gridcolor": "white",
            "linecolor": "white",
            "ticks": ""
           },
           "bgcolor": "#E5ECF6",
           "caxis": {
            "gridcolor": "white",
            "linecolor": "white",
            "ticks": ""
           }
          },
          "title": {
           "x": 0.05
          },
          "xaxis": {
           "automargin": true,
           "gridcolor": "white",
           "linecolor": "white",
           "ticks": "",
           "title": {
            "standoff": 15
           },
           "zerolinecolor": "white",
           "zerolinewidth": 2
          },
          "yaxis": {
           "automargin": true,
           "gridcolor": "white",
           "linecolor": "white",
           "ticks": "",
           "title": {
            "standoff": 15
           },
           "zerolinecolor": "white",
           "zerolinewidth": 2
          }
         }
        },
        "title": {
         "text": "GDP vs CO2 Emissions (size = population)"
        },
        "xaxis": {
         "anchor": "y",
         "domain": [
          0,
          1
         ],
         "title": {
          "text": "gdpPercap"
         }
        },
        "yaxis": {
         "anchor": "x",
         "domain": [
          0,
          1
         ],
         "title": {
          "text": "CO2 emissions (metric tons per capita)"
         }
        }
       }
      }
     },
     "metadata": {},
     "output_type": "display_data"
    }
   ],
   "source": [
    "# 5. Using plotly or bokeh, create an interactive scatter plot comparing 'CO2 emissions (metric tons per capita)' and gdpPercap, where the point size is determined by pop (population) and the color is determined by the continent.\n",
    "import plotly.express as px\n",
    "fig = px.scatter(\n",
    "    df_best,\n",
    "    x='gdpPercap',\n",
    "    y='CO2 emissions (metric tons per capita)',\n",
    "    size='pop',\n",
    "    color='continent',\n",
    "    size_max=40,\n",
    "    title='GDP vs CO2 Emissions (size = population)'\n",
    ")\n",
    "fig.show()"
   ]
  },
  {
   "cell_type": "code",
   "execution_count": 66,
   "id": "775d4620-b579-45b2-9b73-0541855784a2",
   "metadata": {},
   "outputs": [
    {
     "data": {
      "text/html": [
       "<div>\n",
       "<style scoped>\n",
       "    .dataframe tbody tr th:only-of-type {\n",
       "        vertical-align: middle;\n",
       "    }\n",
       "\n",
       "    .dataframe tbody tr th {\n",
       "        vertical-align: top;\n",
       "    }\n",
       "\n",
       "    .dataframe thead th {\n",
       "        text-align: right;\n",
       "    }\n",
       "</style>\n",
       "<table border=\"1\" class=\"dataframe\">\n",
       "  <thead>\n",
       "    <tr style=\"text-align: right;\">\n",
       "      <th></th>\n",
       "      <th>count</th>\n",
       "      <th>mean</th>\n",
       "      <th>std</th>\n",
       "      <th>min</th>\n",
       "      <th>25%</th>\n",
       "      <th>50%</th>\n",
       "      <th>75%</th>\n",
       "      <th>max</th>\n",
       "    </tr>\n",
       "    <tr>\n",
       "      <th>continent</th>\n",
       "      <th></th>\n",
       "      <th></th>\n",
       "      <th></th>\n",
       "      <th></th>\n",
       "      <th></th>\n",
       "      <th></th>\n",
       "      <th></th>\n",
       "      <th></th>\n",
       "    </tr>\n",
       "  </thead>\n",
       "  <tbody>\n",
       "    <tr>\n",
       "      <th>Africa</th>\n",
       "      <td>199.0</td>\n",
       "      <td>698.516783</td>\n",
       "      <td>627.356473</td>\n",
       "      <td>9.715410</td>\n",
       "      <td>375.184208</td>\n",
       "      <td>449.521247</td>\n",
       "      <td>745.393302</td>\n",
       "      <td>3071.774832</td>\n",
       "    </tr>\n",
       "    <tr>\n",
       "      <th>Americas</th>\n",
       "      <td>188.0</td>\n",
       "      <td>1703.620453</td>\n",
       "      <td>2377.181918</td>\n",
       "      <td>219.075497</td>\n",
       "      <td>556.033108</td>\n",
       "      <td>749.029108</td>\n",
       "      <td>1384.585146</td>\n",
       "      <td>14608.009868</td>\n",
       "    </tr>\n",
       "    <tr>\n",
       "      <th>Asia</th>\n",
       "      <td>185.0</td>\n",
       "      <td>1867.280336</td>\n",
       "      <td>2590.043514</td>\n",
       "      <td>86.903767</td>\n",
       "      <td>345.370792</td>\n",
       "      <td>760.140852</td>\n",
       "      <td>1987.087308</td>\n",
       "      <td>12122.050603</td>\n",
       "    </tr>\n",
       "    <tr>\n",
       "      <th>Europe</th>\n",
       "      <td>256.0</td>\n",
       "      <td>3146.062066</td>\n",
       "      <td>1733.880414</td>\n",
       "      <td>350.101258</td>\n",
       "      <td>2073.999447</td>\n",
       "      <td>3027.931793</td>\n",
       "      <td>4034.557831</td>\n",
       "      <td>14746.031339</td>\n",
       "    </tr>\n",
       "    <tr>\n",
       "      <th>Oceania</th>\n",
       "      <td>20.0</td>\n",
       "      <td>3980.314420</td>\n",
       "      <td>1123.410756</td>\n",
       "      <td>1791.461322</td>\n",
       "      <td>3143.501420</td>\n",
       "      <td>4044.850674</td>\n",
       "      <td>4783.650230</td>\n",
       "      <td>5868.347097</td>\n",
       "    </tr>\n",
       "  </tbody>\n",
       "</table>\n",
       "</div>"
      ],
      "text/plain": [
       "           count         mean          std          min          25%  \\\n",
       "continent                                                              \n",
       "Africa     199.0   698.516783   627.356473     9.715410   375.184208   \n",
       "Americas   188.0  1703.620453  2377.181918   219.075497   556.033108   \n",
       "Asia       185.0  1867.280336  2590.043514    86.903767   345.370792   \n",
       "Europe     256.0  3146.062066  1733.880414   350.101258  2073.999447   \n",
       "Oceania     20.0  3980.314420  1123.410756  1791.461322  3143.501420   \n",
       "\n",
       "                   50%          75%           max  \n",
       "continent                                          \n",
       "Africa      449.521247   745.393302   3071.774832  \n",
       "Americas    749.029108  1384.585146  14608.009868  \n",
       "Asia        760.140852  1987.087308  12122.050603  \n",
       "Europe     3027.931793  4034.557831  14746.031339  \n",
       "Oceania    4044.850674  4783.650230   5868.347097  "
      ]
     },
     "metadata": {},
     "output_type": "display_data"
    },
    {
     "name": "stdout",
     "output_type": "stream",
     "text": [
      "ANOVA F-statistic: 51.4592\n",
      "P-value: 8.5270e-39\n"
     ]
    }
   ],
   "source": [
    "# 1. What is the relationship between continent and 'Energy use (kg of oil equivalent per capita)'? (Stats test needed)\n",
    "import pandas as pd\n",
    "import numpy as np\n",
    "import plotly.express as px\n",
    "from scipy.stats import f_oneway\n",
    "import statsmodels.api as sm\n",
    "from statsmodels.stats.multicomp import pairwise_tukeyhsd\n",
    "df_c = df.dropna(subset=['continent', 'Energy use (kg of oil equivalent per capita)'])\n",
    "summary = df_c.groupby('continent')['Energy use (kg of oil equivalent per capita)'].describe()\n",
    "display(summary)\n",
    "\n",
    "groups = [group['Energy use (kg of oil equivalent per capita)'].values\n",
    "          for name, group in df_c.groupby('continent')]\n",
    "f_stat, p_value = f_oneway(*groups)\n",
    "\n",
    "print(f\"ANOVA F-statistic: {f_stat:.4f}\")\n",
    "print(f\"P-value: {p_value:.4e}\")\n"
   ]
  },
  {
   "cell_type": "code",
   "execution_count": 67,
   "id": "bd830c2d-acb8-4339-bce5-60e37e956121",
   "metadata": {},
   "outputs": [
    {
     "name": "stdout",
     "output_type": "stream",
     "text": [
      "     group1    group2   meandiff   p-adj      lower      upper  reject\n",
      "0    Africa  Americas  1005.1037  0.0000   466.8326  1543.3748    True\n",
      "1    Africa      Asia  1168.7636  0.0000   628.2529  1709.2742    True\n",
      "2    Africa    Europe  2447.5453  0.0000  1947.3838  2947.7067    True\n",
      "3    Africa   Oceania  3281.7976  0.0000  2040.3410  4523.2543    True\n",
      "4  Americas      Asia   163.6599  0.9256  -384.4160   711.7357   False\n",
      "5  Americas    Europe  1442.4416  0.0000   934.1141  1950.7691    True\n",
      "6  Americas   Oceania  2276.6940  0.0000  1031.9249  3521.4630    True\n",
      "7      Asia    Europe  1278.7817  0.0000   768.0834  1789.4801    True\n",
      "8      Asia   Oceania  2113.0341  0.0000   867.2950  3358.7732    True\n",
      "9    Europe   Oceania   834.2524  0.3422  -394.5176  2063.0223   False\n"
     ]
    }
   ],
   "source": [
    "# Tukey post-hoc test\n",
    "tukey = pairwise_tukeyhsd(\n",
    "    endog=df_c['Energy use (kg of oil equivalent per capita)'],\n",
    "    groups=df_c['continent'],\n",
    "    alpha=0.05\n",
    ")\n",
    "tukey_df = pd.DataFrame(data=tukey.summary().data[1:], columns=tukey.summary().data[0])\n",
    "print(tukey_df)"
   ]
  },
  {
   "cell_type": "code",
   "execution_count": 68,
   "id": "90d10ce7-e816-4f05-95e5-8a589a023330",
   "metadata": {},
   "outputs": [
    {
     "data": {
      "application/vnd.plotly.v1+json": {
       "config": {
        "plotlyServerURL": "https://plot.ly"
       },
       "data": [
        {
         "alignmentgroup": "True",
         "boxpoints": "all",
         "hovertemplate": "continent=%{x}<br>Energy use (kg of oil equivalent per capita)=%{y}<extra></extra>",
         "legendgroup": "Europe",
         "marker": {
          "color": "#636efa"
         },
         "name": "Europe",
         "notched": false,
         "offsetgroup": "Europe",
         "orientation": "v",
         "showlegend": true,
         "type": "box",
         "x": [
          "Europe",
          "Europe",
          "Europe",
          "Europe",
          "Europe",
          "Europe",
          "Europe",
          "Europe",
          "Europe",
          "Europe",
          "Europe",
          "Europe",
          "Europe",
          "Europe",
          "Europe",
          "Europe",
          "Europe",
          "Europe",
          "Europe",
          "Europe",
          "Europe",
          "Europe",
          "Europe",
          "Europe",
          "Europe",
          "Europe",
          "Europe",
          "Europe",
          "Europe",
          "Europe",
          "Europe",
          "Europe",
          "Europe",
          "Europe",
          "Europe",
          "Europe",
          "Europe",
          "Europe",
          "Europe",
          "Europe",
          "Europe",
          "Europe",
          "Europe",
          "Europe",
          "Europe",
          "Europe",
          "Europe",
          "Europe",
          "Europe",
          "Europe",
          "Europe",
          "Europe",
          "Europe",
          "Europe",
          "Europe",
          "Europe",
          "Europe",
          "Europe",
          "Europe",
          "Europe",
          "Europe",
          "Europe",
          "Europe",
          "Europe",
          "Europe",
          "Europe",
          "Europe",
          "Europe",
          "Europe",
          "Europe",
          "Europe",
          "Europe",
          "Europe",
          "Europe",
          "Europe",
          "Europe",
          "Europe",
          "Europe",
          "Europe",
          "Europe",
          "Europe",
          "Europe",
          "Europe",
          "Europe",
          "Europe",
          "Europe",
          "Europe",
          "Europe",
          "Europe",
          "Europe",
          "Europe",
          "Europe",
          "Europe",
          "Europe",
          "Europe",
          "Europe",
          "Europe",
          "Europe",
          "Europe",
          "Europe",
          "Europe",
          "Europe",
          "Europe",
          "Europe",
          "Europe",
          "Europe",
          "Europe",
          "Europe",
          "Europe",
          "Europe",
          "Europe",
          "Europe",
          "Europe",
          "Europe",
          "Europe",
          "Europe",
          "Europe",
          "Europe",
          "Europe",
          "Europe",
          "Europe",
          "Europe",
          "Europe",
          "Europe",
          "Europe",
          "Europe",
          "Europe",
          "Europe",
          "Europe",
          "Europe",
          "Europe",
          "Europe",
          "Europe",
          "Europe",
          "Europe",
          "Europe",
          "Europe",
          "Europe",
          "Europe",
          "Europe",
          "Europe",
          "Europe",
          "Europe",
          "Europe",
          "Europe",
          "Europe",
          "Europe",
          "Europe",
          "Europe",
          "Europe",
          "Europe",
          "Europe",
          "Europe",
          "Europe",
          "Europe",
          "Europe",
          "Europe",
          "Europe",
          "Europe",
          "Europe",
          "Europe",
          "Europe",
          "Europe",
          "Europe",
          "Europe",
          "Europe",
          "Europe",
          "Europe",
          "Europe",
          "Europe",
          "Europe",
          "Europe",
          "Europe",
          "Europe",
          "Europe",
          "Europe",
          "Europe",
          "Europe",
          "Europe",
          "Europe",
          "Europe",
          "Europe",
          "Europe",
          "Europe",
          "Europe",
          "Europe",
          "Europe",
          "Europe",
          "Europe",
          "Europe",
          "Europe",
          "Europe",
          "Europe",
          "Europe",
          "Europe",
          "Europe",
          "Europe",
          "Europe",
          "Europe",
          "Europe",
          "Europe",
          "Europe",
          "Europe",
          "Europe",
          "Europe",
          "Europe",
          "Europe",
          "Europe",
          "Europe",
          "Europe",
          "Europe",
          "Europe",
          "Europe",
          "Europe",
          "Europe",
          "Europe",
          "Europe",
          "Europe",
          "Europe",
          "Europe",
          "Europe",
          "Europe",
          "Europe",
          "Europe",
          "Europe",
          "Europe",
          "Europe",
          "Europe",
          "Europe",
          "Europe",
          "Europe",
          "Europe",
          "Europe",
          "Europe",
          "Europe",
          "Europe",
          "Europe",
          "Europe",
          "Europe",
          "Europe",
          "Europe",
          "Europe",
          "Europe",
          "Europe",
          "Europe",
          "Europe",
          "Europe",
          "Europe",
          "Europe",
          "Europe",
          "Europe",
          "Europe",
          "Europe",
          "Europe",
          "Europe",
          "Europe"
         ],
         "x0": " ",
         "xaxis": "x",
         "y": [
          865.592481207,
          923.728867504,
          966.683283781,
          921.893044018,
          418.286629757,
          384.594958328,
          645.080153785,
          679.861765101,
          1675.87362115,
          1920.21212423,
          2627.32249578,
          2797.42192238,
          2830.22178095,
          3174.74539203,
          3239.0639673,
          3542.5214303,
          3765.28296302,
          4029.62695258,
          2810.06114801,
          3182.9234575,
          4473.92951273,
          4589.52441,
          4208.25780214,
          4727.68639528,
          5092.96578511,
          5579.51075728,
          5461.40290348,
          5389.28164733,
          1034.34415156,
          712.9252777060001,
          1156.99672325,
          1381.12205494,
          2262.78654882,
          2954.26673889,
          3309.20642511,
          3411.07339479,
          2396.00726637,
          2504.12268042,
          2401.37660851,
          2666.11144524,
          1502.13713647,
          1704.81692913,
          1856.86891892,
          2102.14585212,
          4613.78059093,
          4716.46270083,
          4633.61136678,
          4978.254944899999,
          4222.41657552,
          4184.88468363,
          4163.45010589,
          4468.96035161,
          2296.28956262,
          3061.11010693,
          3858.59212164,
          3830.10381024,
          3422.37480485,
          3819.83212874,
          3561.89036948,
          3848.1558436,
          3535.09801372,
          3622.59683256,
          2361.74387608,
          3126.42604539,
          4188.16067653,
          4516.24806759,
          4805.49388193,
          5960.69258613,
          5380.99306782,
          6276.95169203,
          6705.43983596,
          6967.21323874,
          1852.7357712,
          2241.91139524,
          3160.80483651,
          3155.62146854,
          3272.05274478,
          3690.65145306,
          3954.00370317,
          4049.35046526,
          4225.60695353,
          4120.3058212,
          2124.84853926,
          2388.41234673,
          4017.33738516,
          4336.0874042,
          4257.86440736,
          4616.39706207,
          4190.98422047,
          4203.3573666,
          4108.40129887,
          3985.80810152,
          350.101257861,
          607.702155943,
          1134.78649348,
          1469.54942907,
          1537.27769706,
          1791.83338591,
          2129.89451644,
          2282.13703466,
          2597.74828926,
          2734.92011068,
          1476.04957577,
          1880.53879751,
          2428.82933004,
          2630.75848148,
          2894.82745315,
          2423.17944795,
          2527.30162599,
          2520.15246577,
          2658.03637311,
          3028.29836932,
          3594.36178937,
          4403.96964669,
          5602.87016623,
          7076.20798768,
          7857.45488268,
          7755.39441578,
          8584.10049866,
          10804.6417156,
          14746.0313385,
          1412.72967684,
          1767.42510638,
          2194.51306452,
          2203.82152215,
          2356.8942567,
          2608.80658136,
          2775.21800345,
          3255.49845122,
          3661.32224061,
          3416.03094562,
          1007.04834663,
          1551.51917279,
          2050.73787712,
          2204.17980667,
          2206.54273411,
          2407.25635314,
          2627.34000777,
          2834.40294607,
          3017.97165871,
          3062.36054739,
          1927.97889182,
          2081.01162075,
          2762.80248267,
          4381.04179488,
          4560.27311991,
          3785.11593558,
          4387.67068914,
          4501.66087489,
          4579.47478164,
          4687.98228043,
          4843.79608802,
          2052.05448433,
          2815.68798736,
          3503.4299482,
          4060.10627707,
          4262.39171068,
          5048.49930916,
          5159.65421807,
          5477.88285412,
          5503.46451061,
          5864.97593092,
          1976.85979181,
          2199.05462052,
          2693.74527501,
          3251.8025717,
          3412.49866376,
          3535.48197152,
          2569.17533457,
          2643.12353589,
          2314.20257992,
          2526.9949602,
          363.164047972,
          486.585415324,
          745.283954565,
          845.368945104,
          1119.20463053,
          1241.1956653,
          1813.8858461,
          2083.48767635,
          2477.48974988,
          2402.47799385,
          2131.63973572,
          2735.43911555,
          2876.73333115,
          3027.56521622,
          2052.96292702,
          1989.99418196,
          1755.13002556,
          1904.09688616,
          2020.15373461,
          2299.90425855,
          2119.78208028,
          2248.15503566,
          3224.51944058,
          3780.58944725,
          3754.67958194,
          4074.77904741,
          3410.7278847,
          3361.88402225,
          3483.86750611,
          3320.45472221,
          2584.33517088,
          3310.40063325,
          3424.45287862,
          3627.52350948,
          605.223527325,
          881.3832485789999,
          1299.43101563,
          1667.64601643,
          1762.40454547,
          1919.44664907,
          2435.96962149,
          2666.2640552,
          3107.86734112,
          3180.03341956,
          2887.23625249,
          3630.19413871,
          4527.21372025,
          5054.83376436,
          4877.79989653,
          5763.0704408,
          5369.37035674,
          5672.0081772,
          5802.11010517,
          5472.13539173,
          1568.91106002,
          2040.8279002,
          2727.71921732,
          2877.79290941,
          2984.22326318,
          3430.8555125,
          3613.49260926,
          3526.10543855,
          3553.18855698,
          3410.15494794,
          410.021796967,
          484.393315616,
          605.1364652890001,
          778.4328071839999,
          732.662049648,
          917.976137079,
          960.859171935,
          1165.81161631,
          1139.69490969,
          1438.53526923,
          3087.34197183,
          3345.55349486,
          3747.96247517,
          3695.38387114,
          3397.12228872,
          3619.07726922,
          3684.72453527,
          3760.71236505,
          3685.8654787,
          3441.68876583
         ],
         "y0": " ",
         "yaxis": "y"
        },
        {
         "alignmentgroup": "True",
         "boxpoints": "all",
         "hovertemplate": "continent=%{x}<br>Energy use (kg of oil equivalent per capita)=%{y}<extra></extra>",
         "legendgroup": "Africa",
         "marker": {
          "color": "#EF553B"
         },
         "name": "Africa",
         "notched": false,
         "offsetgroup": "Africa",
         "orientation": "v",
         "showlegend": true,
         "type": "box",
         "x": [
          "Africa",
          "Africa",
          "Africa",
          "Africa",
          "Africa",
          "Africa",
          "Africa",
          "Africa",
          "Africa",
          "Africa",
          "Africa",
          "Africa",
          "Africa",
          "Africa",
          "Africa",
          "Africa",
          "Africa",
          "Africa",
          "Africa",
          "Africa",
          "Africa",
          "Africa",
          "Africa",
          "Africa",
          "Africa",
          "Africa",
          "Africa",
          "Africa",
          "Africa",
          "Africa",
          "Africa",
          "Africa",
          "Africa",
          "Africa",
          "Africa",
          "Africa",
          "Africa",
          "Africa",
          "Africa",
          "Africa",
          "Africa",
          "Africa",
          "Africa",
          "Africa",
          "Africa",
          "Africa",
          "Africa",
          "Africa",
          "Africa",
          "Africa",
          "Africa",
          "Africa",
          "Africa",
          "Africa",
          "Africa",
          "Africa",
          "Africa",
          "Africa",
          "Africa",
          "Africa",
          "Africa",
          "Africa",
          "Africa",
          "Africa",
          "Africa",
          "Africa",
          "Africa",
          "Africa",
          "Africa",
          "Africa",
          "Africa",
          "Africa",
          "Africa",
          "Africa",
          "Africa",
          "Africa",
          "Africa",
          "Africa",
          "Africa",
          "Africa",
          "Africa",
          "Africa",
          "Africa",
          "Africa",
          "Africa",
          "Africa",
          "Africa",
          "Africa",
          "Africa",
          "Africa",
          "Africa",
          "Africa",
          "Africa",
          "Africa",
          "Africa",
          "Africa",
          "Africa",
          "Africa",
          "Africa",
          "Africa",
          "Africa",
          "Africa",
          "Africa",
          "Africa",
          "Africa",
          "Africa",
          "Africa",
          "Africa",
          "Africa",
          "Africa",
          "Africa",
          "Africa",
          "Africa",
          "Africa",
          "Africa",
          "Africa",
          "Africa",
          "Africa",
          "Africa",
          "Africa",
          "Africa",
          "Africa",
          "Africa",
          "Africa",
          "Africa",
          "Africa",
          "Africa",
          "Africa",
          "Africa",
          "Africa",
          "Africa",
          "Africa",
          "Africa",
          "Africa",
          "Africa",
          "Africa",
          "Africa",
          "Africa",
          "Africa",
          "Africa",
          "Africa",
          "Africa",
          "Africa",
          "Africa",
          "Africa",
          "Africa",
          "Africa",
          "Africa",
          "Africa",
          "Africa",
          "Africa",
          "Africa",
          "Africa",
          "Africa",
          "Africa",
          "Africa",
          "Africa",
          "Africa",
          "Africa",
          "Africa",
          "Africa",
          "Africa",
          "Africa",
          "Africa",
          "Africa",
          "Africa",
          "Africa",
          "Africa",
          "Africa",
          "Africa",
          "Africa",
          "Africa",
          "Africa",
          "Africa",
          "Africa",
          "Africa",
          "Africa",
          "Africa",
          "Africa",
          "Africa",
          "Africa",
          "Africa",
          "Africa",
          "Africa",
          "Africa",
          "Africa",
          "Africa",
          "Africa",
          "Africa",
          "Africa",
          "Africa",
          "Africa",
          "Africa",
          "Africa",
          "Africa",
          "Africa",
          "Africa",
          "Africa",
          "Africa"
         ],
         "x0": " ",
         "xaxis": "x",
         "y": [
          261.465250751,
          398.656113469,
          771.235497639,
          827.552506829,
          883.7458819,
          804.842705115,
          904.456391853,
          1075.19412704,
          629.301934363,
          535.2524622330001,
          514.415934309,
          502.598458911,
          511.237051724,
          494.174484207,
          515.4034564030001,
          561.5501055130001,
          380.812029086,
          363.746124276,
          355.338045025,
          347.306591796,
          321.349456122,
          350.78972053,
          305.04923703400004,
          368.216084341,
          739.29915268,
          743.685354401,
          979.087310581,
          900.173527778,
          1032.6780741,
          1028.07041536,
          386.14642293800006,
          402.624623832,
          423.360959463,
          417.73292245,
          397.277540786,
          396.727156517,
          389.52261441,
          332.30332161,
          63.1348128438,
          453.243100247,
          449.52124719,
          393.432418022,
          383.372484812,
          373.659519455,
          386.175169435,
          406.144021726,
          539.7271851830001,
          178.904528787,
          2641.94245101,
          277.580928028,
          319.16492977400003,
          197.54986892,
          162.700034655,
          434.793195834,
          432.458375494,
          434.058222854,
          437.234995296,
          431.15182408,
          435.145404589,
          439.254909387,
          442.86665148300006,
          1707.3062928,
          2000.90013642,
          2069.78785109,
          1470.39664628,
          1298.09635297,
          1236.01768782,
          1229.36459426,
          1281.68189093,
          348.93189080300004,
          381.515147025,
          376.7088969880001,
          363.852104774,
          366.522645114,
          398.339353834,
          317.525749335,
          278.760989471,
          62.1995597581,
          455.513600948,
          455.626061673,
          437.652286948,
          464.00933684,
          445.111805733,
          441.007660811,
          440.968733004,
          462.22025237800005,
          9.71541007212,
          952.733553333,
          1455.08414725,
          2397.98259634,
          2700.28315715,
          2452.19740381,
          2991.94395278,
          3071.77483233,
          2725.88792504,
          435.059790882,
          474.222876797,
          414.601806914,
          512.011597538,
          657.7868228880001,
          712.571976967,
          873.195801833,
          1007.57484088,
          190.387995598,
          252.036810104,
          268.259441677,
          277.485699249,
          327.952990834,
          362.27042057,
          402.312789339,
          487.448713086,
          699.0228986210001,
          608.405141326,
          523.782627433,
          474.548861116,
          420.272139083,
          390.685096382,
          395.127686774,
          407.278749651,
          496.518769708,
          594.756148267,
          579.8782172790001,
          659.366428344,
          130.047629217,
          128.026173022,
          583.794808164,
          634.258748201,
          689.4945390439999,
          674.47298453,
          719.308370017,
          696.8847876410001,
          721.312209806,
          747.1012487439999,
          274.890043982,
          280.837670795,
          281.840462003,
          260.719421235,
          254.211898654,
          222.634685966,
          221.005820684,
          253.315356135,
          252.409846662,
          1997.49821372,
          2208.54919916,
          2699.72841558,
          2831.14750181,
          2414.3981946,
          2655.26925959,
          2421.00577767,
          2805.48565552,
          485.018934669,
          445.524031505,
          431.003010124,
          397.42097884300006,
          386.72897561,
          392.294923579,
          411.137505242,
          366.495542,
          372.735499664,
          527.0538798619999,
          455.445767964,
          414.717967022,
          394.145177081,
          369.835021604,
          357.261154316,
          416.002267994,
          442.62215764,
          332.041867346,
          327.998948608,
          327.324375984,
          328.062332773,
          328.69853999,
          384.078207642,
          424.034097572,
          417.118049767,
          341.737804158,
          427.302747359,
          493.048630903,
          542.645168334,
          641.6905970619999,
          679.079751272,
          801.489193653,
          883.981281357,
          857.0932537580002,
          819.7872201060001,
          756.612333199,
          700.14084375,
          662.721536129,
          617.209365016,
          598.548219754,
          588.018958956,
          994.184786353,
          921.65469562,
          842.372683813,
          896.673611477,
          923.493407317,
          804.5088922269998,
          772.6766193660001,
          725.6810488469998
         ],
         "y0": " ",
         "yaxis": "y"
        },
        {
         "alignmentgroup": "True",
         "boxpoints": "all",
         "hovertemplate": "continent=%{x}<br>Energy use (kg of oil equivalent per capita)=%{y}<extra></extra>",
         "legendgroup": "Americas",
         "marker": {
          "color": "#00cc96"
         },
         "name": "Americas",
         "notched": false,
         "offsetgroup": "Americas",
         "orientation": "v",
         "showlegend": true,
         "type": "box",
         "x": [
          "Americas",
          "Americas",
          "Americas",
          "Americas",
          "Americas",
          "Americas",
          "Americas",
          "Americas",
          "Americas",
          "Americas",
          "Americas",
          "Americas",
          "Americas",
          "Americas",
          "Americas",
          "Americas",
          "Americas",
          "Americas",
          "Americas",
          "Americas",
          "Americas",
          "Americas",
          "Americas",
          "Americas",
          "Americas",
          "Americas",
          "Americas",
          "Americas",
          "Americas",
          "Americas",
          "Americas",
          "Americas",
          "Americas",
          "Americas",
          "Americas",
          "Americas",
          "Americas",
          "Americas",
          "Americas",
          "Americas",
          "Americas",
          "Americas",
          "Americas",
          "Americas",
          "Americas",
          "Americas",
          "Americas",
          "Americas",
          "Americas",
          "Americas",
          "Americas",
          "Americas",
          "Americas",
          "Americas",
          "Americas",
          "Americas",
          "Americas",
          "Americas",
          "Americas",
          "Americas",
          "Americas",
          "Americas",
          "Americas",
          "Americas",
          "Americas",
          "Americas",
          "Americas",
          "Americas",
          "Americas",
          "Americas",
          "Americas",
          "Americas",
          "Americas",
          "Americas",
          "Americas",
          "Americas",
          "Americas",
          "Americas",
          "Americas",
          "Americas",
          "Americas",
          "Americas",
          "Americas",
          "Americas",
          "Americas",
          "Americas",
          "Americas",
          "Americas",
          "Americas",
          "Americas",
          "Americas",
          "Americas",
          "Americas",
          "Americas",
          "Americas",
          "Americas",
          "Americas",
          "Americas",
          "Americas",
          "Americas",
          "Americas",
          "Americas",
          "Americas",
          "Americas",
          "Americas",
          "Americas",
          "Americas",
          "Americas",
          "Americas",
          "Americas",
          "Americas",
          "Americas",
          "Americas",
          "Americas",
          "Americas",
          "Americas",
          "Americas",
          "Americas",
          "Americas",
          "Americas",
          "Americas",
          "Americas",
          "Americas",
          "Americas",
          "Americas",
          "Americas",
          "Americas",
          "Americas",
          "Americas",
          "Americas",
          "Americas",
          "Americas",
          "Americas",
          "Americas",
          "Americas",
          "Americas",
          "Americas",
          "Americas",
          "Americas",
          "Americas",
          "Americas",
          "Americas",
          "Americas",
          "Americas",
          "Americas",
          "Americas",
          "Americas",
          "Americas",
          "Americas",
          "Americas",
          "Americas",
          "Americas",
          "Americas",
          "Americas",
          "Americas",
          "Americas",
          "Americas",
          "Americas",
          "Americas",
          "Americas",
          "Americas",
          "Americas",
          "Americas",
          "Americas",
          "Americas",
          "Americas",
          "Americas",
          "Americas",
          "Americas",
          "Americas",
          "Americas",
          "Americas",
          "Americas",
          "Americas",
          "Americas",
          "Americas",
          "Americas",
          "Americas",
          "Americas",
          "Americas",
          "Americas",
          "Americas",
          "Americas",
          "Americas",
          "Americas",
          "Americas",
          "Americas",
          "Americas"
         ],
         "x0": " ",
         "xaxis": "x",
         "y": [
          1379.81886741,
          1420.56765898,
          1416.53992488,
          1477.07652885,
          1484.0589177000004,
          1614.33824027,
          1502.22488095,
          1846.93675639,
          240.157170254,
          331.439253894,
          462.43170312,
          341.493450003,
          399.828007323,
          561.077061465,
          528.760849998,
          561.052703379,
          741.6918705969998,
          868.475086329,
          867.193602187,
          987.562557183,
          929.003678998,
          1061.83829204,
          1081.26747985,
          1221.36231051,
          4451.56011604,
          5557.29174015,
          6933.60655182,
          7409.53000504,
          7149.344059999999,
          7641.32410546,
          7479.477427399999,
          7965.51932158,
          7920.11022894,
          8130.58019344,
          891.2738674039999,
          779.391621026,
          763.201224638,
          826.260796732,
          1141.81007039,
          1558.78524634,
          1644.79154564,
          1860.10017433,
          598.975288294,
          638.025434659,
          635.432893568,
          696.0663928460001,
          704.354798517,
          709.8217022360001,
          606.266720641,
          637.510761494,
          442.444664949,
          528.165846592,
          455.822967416,
          491.495062694,
          705.487675532,
          647.0037811669999,
          748.21348058,
          1031.80869969,
          1154.55654156,
          1424.73743541,
          1536.90510757,
          1578.25907104,
          1214.11700599,
          1125.97333686,
          1053.28051042,
          904.662628457,
          573.372745636,
          601.951784846,
          596.93367919,
          594.381238984,
          603.781376066,
          749.844735219,
          819.797049144,
          763.408932512,
          360.600661999,
          568.073705272,
          666.635807378,
          602.470062495,
          629.220777401,
          721.687588695,
          739.4547575380002,
          833.203582927,
          484.967888203,
          622.1297874219999,
          595.2355137530001,
          503.481769676,
          525.453706523,
          624.096762293,
          720.3532811819998,
          748.1199930380002,
          491.473442413,
          574.359356263,
          482.712477796,
          448.694681999,
          497.344297754,
          526.326033275,
          590.478746775,
          616.892076168,
          317.810225983,
          350.433910995,
          301.847692756,
          226.326971354,
          219.075496949,
          252.463093356,
          261.374331488,
          384.513775199,
          499.277043223,
          512.605428263,
          520.393217065,
          481.319956646,
          483.335543947,
          528.901564325,
          516.4041365740001,
          657.398639731,
          1331.9860874,
          1153.48652689,
          1040.31180401,
          765.4628605460001,
          1215.0555252,
          1333.59707253,
          1371.65658542,
          1578.42891649,
          856.81120942,
          1063.78037111,
          1465.05024708,
          1379.33314201,
          1452.97190576,
          1398.88398183,
          1412.86939872,
          1551.28978352,
          487.96346663800006,
          585.0413863719999,
          469.268615848,
          502.383245685,
          509.839947747,
          503.04461939,
          508.740585366,
          521.961949752,
          1159.6892715999998,
          899.7691370580002,
          796.469906347,
          730.8000538289999,
          715.38365957,
          777.742373207,
          834.670915895,
          879.523836391,
          540.588375968,
          580.530937274,
          630.648885594,
          699.102776962,
          712.691343364,
          877.0448880460001,
          705.433761481,
          708.7828687130002,
          648.807999388,
          678.509067152,
          632.7254874390001,
          540.974320389,
          408.43313224,
          440.557973649,
          446.340827194,
          506.633143848,
          2772.88276961,
          2808.51679767,
          3648.18714807,
          4188.6453215,
          5286.28687516,
          5437.91312128,
          9356.78097414,
          14608.0098682,
          5774.58631485,
          6809.82048392,
          7940.99783226,
          8285.57089798,
          7259.07889875,
          7622.17301652,
          7677.40140109,
          7828.5810964,
          7843.34484914,
          7758.16570028,
          872.986354117,
          868.792103341,
          766.1430987780002,
          718.448623294,
          855.1247871139999,
          880.633650605,
          762.6981432010001,
          947.838610674
         ],
         "y0": " ",
         "yaxis": "y"
        },
        {
         "alignmentgroup": "True",
         "boxpoints": "all",
         "hovertemplate": "continent=%{x}<br>Energy use (kg of oil equivalent per capita)=%{y}<extra></extra>",
         "legendgroup": "Oceania",
         "marker": {
          "color": "#ab63fa"
         },
         "name": "Oceania",
         "notched": false,
         "offsetgroup": "Oceania",
         "orientation": "v",
         "showlegend": true,
         "type": "box",
         "x": [
          "Oceania",
          "Oceania",
          "Oceania",
          "Oceania",
          "Oceania",
          "Oceania",
          "Oceania",
          "Oceania",
          "Oceania",
          "Oceania",
          "Oceania",
          "Oceania",
          "Oceania",
          "Oceania",
          "Oceania",
          "Oceania",
          "Oceania",
          "Oceania",
          "Oceania",
          "Oceania"
         ],
         "x0": " ",
         "xaxis": "x",
         "y": [
          3172.97486502,
          3692.80794983,
          4035.20634439,
          4671.19567362,
          4817.48952431,
          4772.37046465,
          4959.21491855,
          5469.5999892,
          5569.6409925,
          5868.34709712,
          1791.46132151,
          2188.69351345,
          2617.16105927,
          3055.08108455,
          3012.97138874,
          3452.96268019,
          3808.4772206,
          4258.75677677,
          4337.38052425,
          4054.4950045
         ],
         "y0": " ",
         "yaxis": "y"
        },
        {
         "alignmentgroup": "True",
         "boxpoints": "all",
         "hovertemplate": "continent=%{x}<br>Energy use (kg of oil equivalent per capita)=%{y}<extra></extra>",
         "legendgroup": "Asia",
         "marker": {
          "color": "#FFA15A"
         },
         "name": "Asia",
         "notched": false,
         "offsetgroup": "Asia",
         "orientation": "v",
         "showlegend": true,
         "type": "box",
         "x": [
          "Asia",
          "Asia",
          "Asia",
          "Asia",
          "Asia",
          "Asia",
          "Asia",
          "Asia",
          "Asia",
          "Asia",
          "Asia",
          "Asia",
          "Asia",
          "Asia",
          "Asia",
          "Asia",
          "Asia",
          "Asia",
          "Asia",
          "Asia",
          "Asia",
          "Asia",
          "Asia",
          "Asia",
          "Asia",
          "Asia",
          "Asia",
          "Asia",
          "Asia",
          "Asia",
          "Asia",
          "Asia",
          "Asia",
          "Asia",
          "Asia",
          "Asia",
          "Asia",
          "Asia",
          "Asia",
          "Asia",
          "Asia",
          "Asia",
          "Asia",
          "Asia",
          "Asia",
          "Asia",
          "Asia",
          "Asia",
          "Asia",
          "Asia",
          "Asia",
          "Asia",
          "Asia",
          "Asia",
          "Asia",
          "Asia",
          "Asia",
          "Asia",
          "Asia",
          "Asia",
          "Asia",
          "Asia",
          "Asia",
          "Asia",
          "Asia",
          "Asia",
          "Asia",
          "Asia",
          "Asia",
          "Asia",
          "Asia",
          "Asia",
          "Asia",
          "Asia",
          "Asia",
          "Asia",
          "Asia",
          "Asia",
          "Asia",
          "Asia",
          "Asia",
          "Asia",
          "Asia",
          "Asia",
          "Asia",
          "Asia",
          "Asia",
          "Asia",
          "Asia",
          "Asia",
          "Asia",
          "Asia",
          "Asia",
          "Asia",
          "Asia",
          "Asia",
          "Asia",
          "Asia",
          "Asia",
          "Asia",
          "Asia",
          "Asia",
          "Asia",
          "Asia",
          "Asia",
          "Asia",
          "Asia",
          "Asia",
          "Asia",
          "Asia",
          "Asia",
          "Asia",
          "Asia",
          "Asia",
          "Asia",
          "Asia",
          "Asia",
          "Asia",
          "Asia",
          "Asia",
          "Asia",
          "Asia",
          "Asia",
          "Asia",
          "Asia",
          "Asia",
          "Asia",
          "Asia",
          "Asia",
          "Asia",
          "Asia",
          "Asia",
          "Asia",
          "Asia",
          "Asia",
          "Asia",
          "Asia",
          "Asia",
          "Asia",
          "Asia",
          "Asia",
          "Asia",
          "Asia",
          "Asia",
          "Asia",
          "Asia",
          "Asia",
          "Asia",
          "Asia",
          "Asia",
          "Asia",
          "Asia",
          "Asia",
          "Asia",
          "Asia",
          "Asia",
          "Asia",
          "Asia",
          "Asia",
          "Asia",
          "Asia",
          "Asia",
          "Asia",
          "Asia",
          "Asia",
          "Asia",
          "Asia",
          "Asia",
          "Asia",
          "Asia",
          "Asia",
          "Asia",
          "Asia",
          "Asia",
          "Asia",
          "Asia",
          "Asia",
          "Asia",
          "Asia",
          "Asia",
          "Asia",
          "Asia",
          "Asia",
          "Asia",
          "Asia"
         ],
         "x0": " ",
         "xaxis": "x",
         "y": [
          5960.21133509,
          8187.11498635,
          9071.02474414,
          9523.46356521,
          10844.7550254,
          12122.0506027,
          11704.3047293,
          11291.126355,
          86.903766977,
          97.860763105,
          105.482961637,
          106.866835127,
          119.405481659,
          135.210016124,
          149.933182829,
          173.580998621,
          265.896639422,
          314.97027594400004,
          253.343288148,
          477.168708746,
          577.211010594,
          606.830437326,
          694.4223599789999,
          752.628662541,
          871.6462695360001,
          978.61898313,
          1550.53027085,
          268.485083335,
          283.275393642,
          299.592677132,
          325.73809089400004,
          365.379491444,
          399.052528907,
          423.580114419,
          486.292374786,
          301.357990782,
          347.868204367,
          388.834624998,
          436.663234979,
          574.344890279,
          690.7954914339999,
          760.140852043,
          788.5836582439999,
          405.152489951,
          626.354937731,
          690.323799679,
          958.189471661,
          1311.18896852,
          1861.7960965,
          1130.94271589,
          892.39580238,
          1756.33100381,
          1786.48768337,
          1958.31704292,
          2278.47928588,
          2580.96935389,
          2881.12834133,
          2862.7957382,
          2898.15336834,
          1003.75225394,
          1720.54974435,
          2667.04674964,
          2899.90421823,
          2840.60843908,
          3044.11508629,
          3652.07124745,
          4048.98200021,
          4005.94409353,
          4024.99795314,
          297.830418297,
          473.5437315580001,
          875.54040491,
          998.355658577,
          1015.41769856,
          991.96787502,
          1024.4838209,
          1251.68193903,
          7802.76597438,
          6429.99850119,
          7548.12934744,
          8616.57655309,
          8764.51262442,
          10105.8321479,
          10395.1176066,
          789.565543378,
          696.1964896339999,
          678.5814280469999,
          996.943321974,
          868.56933067,
          1698.3102702999995,
          1484.22892653,
          1034.92218437,
          536.095210505,
          621.740086559,
          898.6549052380002,
          1078.98626036,
          1566.72481216,
          2063.52696529,
          2183.8734214,
          2742.50027319,
          1746.24080026,
          1488.63742731,
          951.851569598,
          1058.16485595,
          1376.98860218,
          281.931848431,
          276.246179043,
          270.238811656,
          269.30095308,
          251.060745819,
          263.20255292,
          266.385844866,
          307.913041122,
          300.972670494,
          302.06554296,
          305.746943514,
          307.065111322,
          309.74507691900004,
          316.822270368,
          345.37079196,
          357.131793555,
          112.054808283,
          761.662333837,
          1151.87126892,
          1412.3831509,
          2756.42578415,
          3027.90856152,
          3890.79215204,
          6881.62081928,
          285.16407106400004,
          302.558312012,
          336.92280827900004,
          376.344243754,
          412.405215402,
          448.925191849,
          455.934635667,
          523.2672101530001,
          406.49229803800006,
          456.743021869,
          461.890994003,
          433.357672285,
          460.545976337,
          500.989771655,
          477.457211125,
          434.402352876,
          979.423249943,
          1368.95037047,
          4215.42559694,
          3750.91313869,
          4421.45445335,
          4354.65523263,
          4907.82867485,
          5379.69097885,
          1569.47082327,
          1763.23012084,
          1987.08730813,
          2757.88068931,
          4588.43321165,
          5818.15092473,
          5065.98450652,
          4677.20430572,
          314.546613794,
          293.833883231,
          324.13036566,
          328.090886835,
          327.882389865,
          380.086721607,
          432.84856645,
          470.83709579,
          367.864327681,
          451.510578157,
          456.467867425,
          531.762695185,
          840.141111806,
          1164.94784692,
          1282.58023503,
          1585.96595222,
          298.157558425,
          257.872313351,
          271.162299998,
          286.657214575,
          276.1308749,
          335.170556166,
          420.446832131,
          540.08195349
         ],
         "y0": " ",
         "yaxis": "y"
        }
       ],
       "layout": {
        "boxmode": "overlay",
        "legend": {
         "title": {
          "text": "continent"
         },
         "tracegroupgap": 0
        },
        "template": {
         "data": {
          "bar": [
           {
            "error_x": {
             "color": "#2a3f5f"
            },
            "error_y": {
             "color": "#2a3f5f"
            },
            "marker": {
             "line": {
              "color": "#E5ECF6",
              "width": 0.5
             },
             "pattern": {
              "fillmode": "overlay",
              "size": 10,
              "solidity": 0.2
             }
            },
            "type": "bar"
           }
          ],
          "barpolar": [
           {
            "marker": {
             "line": {
              "color": "#E5ECF6",
              "width": 0.5
             },
             "pattern": {
              "fillmode": "overlay",
              "size": 10,
              "solidity": 0.2
             }
            },
            "type": "barpolar"
           }
          ],
          "carpet": [
           {
            "aaxis": {
             "endlinecolor": "#2a3f5f",
             "gridcolor": "white",
             "linecolor": "white",
             "minorgridcolor": "white",
             "startlinecolor": "#2a3f5f"
            },
            "baxis": {
             "endlinecolor": "#2a3f5f",
             "gridcolor": "white",
             "linecolor": "white",
             "minorgridcolor": "white",
             "startlinecolor": "#2a3f5f"
            },
            "type": "carpet"
           }
          ],
          "choropleth": [
           {
            "colorbar": {
             "outlinewidth": 0,
             "ticks": ""
            },
            "type": "choropleth"
           }
          ],
          "contour": [
           {
            "colorbar": {
             "outlinewidth": 0,
             "ticks": ""
            },
            "colorscale": [
             [
              0,
              "#0d0887"
             ],
             [
              0.1111111111111111,
              "#46039f"
             ],
             [
              0.2222222222222222,
              "#7201a8"
             ],
             [
              0.3333333333333333,
              "#9c179e"
             ],
             [
              0.4444444444444444,
              "#bd3786"
             ],
             [
              0.5555555555555556,
              "#d8576b"
             ],
             [
              0.6666666666666666,
              "#ed7953"
             ],
             [
              0.7777777777777778,
              "#fb9f3a"
             ],
             [
              0.8888888888888888,
              "#fdca26"
             ],
             [
              1,
              "#f0f921"
             ]
            ],
            "type": "contour"
           }
          ],
          "contourcarpet": [
           {
            "colorbar": {
             "outlinewidth": 0,
             "ticks": ""
            },
            "type": "contourcarpet"
           }
          ],
          "heatmap": [
           {
            "colorbar": {
             "outlinewidth": 0,
             "ticks": ""
            },
            "colorscale": [
             [
              0,
              "#0d0887"
             ],
             [
              0.1111111111111111,
              "#46039f"
             ],
             [
              0.2222222222222222,
              "#7201a8"
             ],
             [
              0.3333333333333333,
              "#9c179e"
             ],
             [
              0.4444444444444444,
              "#bd3786"
             ],
             [
              0.5555555555555556,
              "#d8576b"
             ],
             [
              0.6666666666666666,
              "#ed7953"
             ],
             [
              0.7777777777777778,
              "#fb9f3a"
             ],
             [
              0.8888888888888888,
              "#fdca26"
             ],
             [
              1,
              "#f0f921"
             ]
            ],
            "type": "heatmap"
           }
          ],
          "heatmapgl": [
           {
            "colorbar": {
             "outlinewidth": 0,
             "ticks": ""
            },
            "colorscale": [
             [
              0,
              "#0d0887"
             ],
             [
              0.1111111111111111,
              "#46039f"
             ],
             [
              0.2222222222222222,
              "#7201a8"
             ],
             [
              0.3333333333333333,
              "#9c179e"
             ],
             [
              0.4444444444444444,
              "#bd3786"
             ],
             [
              0.5555555555555556,
              "#d8576b"
             ],
             [
              0.6666666666666666,
              "#ed7953"
             ],
             [
              0.7777777777777778,
              "#fb9f3a"
             ],
             [
              0.8888888888888888,
              "#fdca26"
             ],
             [
              1,
              "#f0f921"
             ]
            ],
            "type": "heatmapgl"
           }
          ],
          "histogram": [
           {
            "marker": {
             "pattern": {
              "fillmode": "overlay",
              "size": 10,
              "solidity": 0.2
             }
            },
            "type": "histogram"
           }
          ],
          "histogram2d": [
           {
            "colorbar": {
             "outlinewidth": 0,
             "ticks": ""
            },
            "colorscale": [
             [
              0,
              "#0d0887"
             ],
             [
              0.1111111111111111,
              "#46039f"
             ],
             [
              0.2222222222222222,
              "#7201a8"
             ],
             [
              0.3333333333333333,
              "#9c179e"
             ],
             [
              0.4444444444444444,
              "#bd3786"
             ],
             [
              0.5555555555555556,
              "#d8576b"
             ],
             [
              0.6666666666666666,
              "#ed7953"
             ],
             [
              0.7777777777777778,
              "#fb9f3a"
             ],
             [
              0.8888888888888888,
              "#fdca26"
             ],
             [
              1,
              "#f0f921"
             ]
            ],
            "type": "histogram2d"
           }
          ],
          "histogram2dcontour": [
           {
            "colorbar": {
             "outlinewidth": 0,
             "ticks": ""
            },
            "colorscale": [
             [
              0,
              "#0d0887"
             ],
             [
              0.1111111111111111,
              "#46039f"
             ],
             [
              0.2222222222222222,
              "#7201a8"
             ],
             [
              0.3333333333333333,
              "#9c179e"
             ],
             [
              0.4444444444444444,
              "#bd3786"
             ],
             [
              0.5555555555555556,
              "#d8576b"
             ],
             [
              0.6666666666666666,
              "#ed7953"
             ],
             [
              0.7777777777777778,
              "#fb9f3a"
             ],
             [
              0.8888888888888888,
              "#fdca26"
             ],
             [
              1,
              "#f0f921"
             ]
            ],
            "type": "histogram2dcontour"
           }
          ],
          "mesh3d": [
           {
            "colorbar": {
             "outlinewidth": 0,
             "ticks": ""
            },
            "type": "mesh3d"
           }
          ],
          "parcoords": [
           {
            "line": {
             "colorbar": {
              "outlinewidth": 0,
              "ticks": ""
             }
            },
            "type": "parcoords"
           }
          ],
          "pie": [
           {
            "automargin": true,
            "type": "pie"
           }
          ],
          "scatter": [
           {
            "fillpattern": {
             "fillmode": "overlay",
             "size": 10,
             "solidity": 0.2
            },
            "type": "scatter"
           }
          ],
          "scatter3d": [
           {
            "line": {
             "colorbar": {
              "outlinewidth": 0,
              "ticks": ""
             }
            },
            "marker": {
             "colorbar": {
              "outlinewidth": 0,
              "ticks": ""
             }
            },
            "type": "scatter3d"
           }
          ],
          "scattercarpet": [
           {
            "marker": {
             "colorbar": {
              "outlinewidth": 0,
              "ticks": ""
             }
            },
            "type": "scattercarpet"
           }
          ],
          "scattergeo": [
           {
            "marker": {
             "colorbar": {
              "outlinewidth": 0,
              "ticks": ""
             }
            },
            "type": "scattergeo"
           }
          ],
          "scattergl": [
           {
            "marker": {
             "colorbar": {
              "outlinewidth": 0,
              "ticks": ""
             }
            },
            "type": "scattergl"
           }
          ],
          "scattermapbox": [
           {
            "marker": {
             "colorbar": {
              "outlinewidth": 0,
              "ticks": ""
             }
            },
            "type": "scattermapbox"
           }
          ],
          "scatterpolar": [
           {
            "marker": {
             "colorbar": {
              "outlinewidth": 0,
              "ticks": ""
             }
            },
            "type": "scatterpolar"
           }
          ],
          "scatterpolargl": [
           {
            "marker": {
             "colorbar": {
              "outlinewidth": 0,
              "ticks": ""
             }
            },
            "type": "scatterpolargl"
           }
          ],
          "scatterternary": [
           {
            "marker": {
             "colorbar": {
              "outlinewidth": 0,
              "ticks": ""
             }
            },
            "type": "scatterternary"
           }
          ],
          "surface": [
           {
            "colorbar": {
             "outlinewidth": 0,
             "ticks": ""
            },
            "colorscale": [
             [
              0,
              "#0d0887"
             ],
             [
              0.1111111111111111,
              "#46039f"
             ],
             [
              0.2222222222222222,
              "#7201a8"
             ],
             [
              0.3333333333333333,
              "#9c179e"
             ],
             [
              0.4444444444444444,
              "#bd3786"
             ],
             [
              0.5555555555555556,
              "#d8576b"
             ],
             [
              0.6666666666666666,
              "#ed7953"
             ],
             [
              0.7777777777777778,
              "#fb9f3a"
             ],
             [
              0.8888888888888888,
              "#fdca26"
             ],
             [
              1,
              "#f0f921"
             ]
            ],
            "type": "surface"
           }
          ],
          "table": [
           {
            "cells": {
             "fill": {
              "color": "#EBF0F8"
             },
             "line": {
              "color": "white"
             }
            },
            "header": {
             "fill": {
              "color": "#C8D4E3"
             },
             "line": {
              "color": "white"
             }
            },
            "type": "table"
           }
          ]
         },
         "layout": {
          "annotationdefaults": {
           "arrowcolor": "#2a3f5f",
           "arrowhead": 0,
           "arrowwidth": 1
          },
          "autotypenumbers": "strict",
          "coloraxis": {
           "colorbar": {
            "outlinewidth": 0,
            "ticks": ""
           }
          },
          "colorscale": {
           "diverging": [
            [
             0,
             "#8e0152"
            ],
            [
             0.1,
             "#c51b7d"
            ],
            [
             0.2,
             "#de77ae"
            ],
            [
             0.3,
             "#f1b6da"
            ],
            [
             0.4,
             "#fde0ef"
            ],
            [
             0.5,
             "#f7f7f7"
            ],
            [
             0.6,
             "#e6f5d0"
            ],
            [
             0.7,
             "#b8e186"
            ],
            [
             0.8,
             "#7fbc41"
            ],
            [
             0.9,
             "#4d9221"
            ],
            [
             1,
             "#276419"
            ]
           ],
           "sequential": [
            [
             0,
             "#0d0887"
            ],
            [
             0.1111111111111111,
             "#46039f"
            ],
            [
             0.2222222222222222,
             "#7201a8"
            ],
            [
             0.3333333333333333,
             "#9c179e"
            ],
            [
             0.4444444444444444,
             "#bd3786"
            ],
            [
             0.5555555555555556,
             "#d8576b"
            ],
            [
             0.6666666666666666,
             "#ed7953"
            ],
            [
             0.7777777777777778,
             "#fb9f3a"
            ],
            [
             0.8888888888888888,
             "#fdca26"
            ],
            [
             1,
             "#f0f921"
            ]
           ],
           "sequentialminus": [
            [
             0,
             "#0d0887"
            ],
            [
             0.1111111111111111,
             "#46039f"
            ],
            [
             0.2222222222222222,
             "#7201a8"
            ],
            [
             0.3333333333333333,
             "#9c179e"
            ],
            [
             0.4444444444444444,
             "#bd3786"
            ],
            [
             0.5555555555555556,
             "#d8576b"
            ],
            [
             0.6666666666666666,
             "#ed7953"
            ],
            [
             0.7777777777777778,
             "#fb9f3a"
            ],
            [
             0.8888888888888888,
             "#fdca26"
            ],
            [
             1,
             "#f0f921"
            ]
           ]
          },
          "colorway": [
           "#636efa",
           "#EF553B",
           "#00cc96",
           "#ab63fa",
           "#FFA15A",
           "#19d3f3",
           "#FF6692",
           "#B6E880",
           "#FF97FF",
           "#FECB52"
          ],
          "font": {
           "color": "#2a3f5f"
          },
          "geo": {
           "bgcolor": "white",
           "lakecolor": "white",
           "landcolor": "#E5ECF6",
           "showlakes": true,
           "showland": true,
           "subunitcolor": "white"
          },
          "hoverlabel": {
           "align": "left"
          },
          "hovermode": "closest",
          "mapbox": {
           "style": "light"
          },
          "paper_bgcolor": "white",
          "plot_bgcolor": "#E5ECF6",
          "polar": {
           "angularaxis": {
            "gridcolor": "white",
            "linecolor": "white",
            "ticks": ""
           },
           "bgcolor": "#E5ECF6",
           "radialaxis": {
            "gridcolor": "white",
            "linecolor": "white",
            "ticks": ""
           }
          },
          "scene": {
           "xaxis": {
            "backgroundcolor": "#E5ECF6",
            "gridcolor": "white",
            "gridwidth": 2,
            "linecolor": "white",
            "showbackground": true,
            "ticks": "",
            "zerolinecolor": "white"
           },
           "yaxis": {
            "backgroundcolor": "#E5ECF6",
            "gridcolor": "white",
            "gridwidth": 2,
            "linecolor": "white",
            "showbackground": true,
            "ticks": "",
            "zerolinecolor": "white"
           },
           "zaxis": {
            "backgroundcolor": "#E5ECF6",
            "gridcolor": "white",
            "gridwidth": 2,
            "linecolor": "white",
            "showbackground": true,
            "ticks": "",
            "zerolinecolor": "white"
           }
          },
          "shapedefaults": {
           "line": {
            "color": "#2a3f5f"
           }
          },
          "ternary": {
           "aaxis": {
            "gridcolor": "white",
            "linecolor": "white",
            "ticks": ""
           },
           "baxis": {
            "gridcolor": "white",
            "linecolor": "white",
            "ticks": ""
           },
           "bgcolor": "#E5ECF6",
           "caxis": {
            "gridcolor": "white",
            "linecolor": "white",
            "ticks": ""
           }
          },
          "title": {
           "x": 0.05
          },
          "xaxis": {
           "automargin": true,
           "gridcolor": "white",
           "linecolor": "white",
           "ticks": "",
           "title": {
            "standoff": 15
           },
           "zerolinecolor": "white",
           "zerolinewidth": 2
          },
          "yaxis": {
           "automargin": true,
           "gridcolor": "white",
           "linecolor": "white",
           "ticks": "",
           "title": {
            "standoff": 15
           },
           "zerolinecolor": "white",
           "zerolinewidth": 2
          }
         }
        },
        "title": {
         "text": "Energy Use per Capita by Continent"
        },
        "xaxis": {
         "anchor": "y",
         "categoryarray": [
          "Europe",
          "Africa",
          "Americas",
          "Oceania",
          "Asia"
         ],
         "categoryorder": "array",
         "domain": [
          0,
          1
         ],
         "title": {
          "text": "continent"
         }
        },
        "yaxis": {
         "anchor": "x",
         "domain": [
          0,
          1
         ],
         "title": {
          "text": "Energy use (kg of oil equivalent per capita)"
         }
        }
       }
      }
     },
     "metadata": {},
     "output_type": "display_data"
    }
   ],
   "source": [
    "fig = px.box(\n",
    "    df_c,\n",
    "    x='continent',\n",
    "    y='Energy use (kg of oil equivalent per capita)',\n",
    "    color='continent',\n",
    "    title='Energy Use per Capita by Continent',\n",
    "    points='all'\n",
    ")\n",
    "fig.show()"
   ]
  },
  {
   "cell_type": "code",
   "execution_count": 69,
   "id": "6494826e-7eb8-4704-906a-e8a8cf1781b8",
   "metadata": {},
   "outputs": [
    {
     "data": {
      "application/vnd.plotly.v1+json": {
       "config": {
        "plotlyServerURL": "https://plot.ly"
       },
       "data": [
        {
         "alignmentgroup": "True",
         "boxpoints": "all",
         "hovertemplate": "continent=%{x}<br>Imports of goods and services (% of GDP)=%{y}<extra></extra>",
         "legendgroup": "Asia",
         "marker": {
          "color": "#636efa"
         },
         "name": "Asia",
         "notched": false,
         "offsetgroup": "Asia",
         "orientation": "v",
         "showlegend": true,
         "type": "box",
         "x": [
          "Asia",
          "Asia",
          "Asia",
          "Asia",
          "Asia",
          "Asia",
          "Asia",
          "Asia",
          "Asia",
          "Asia",
          "Asia",
          "Asia",
          "Asia",
          "Asia",
          "Asia",
          "Asia",
          "Asia",
          "Asia",
          "Asia",
          "Asia",
          "Asia",
          "Asia",
          "Asia",
          "Asia",
          "Asia",
          "Asia",
          "Asia",
          "Asia",
          "Asia",
          "Asia",
          "Asia",
          "Asia",
          "Asia",
          "Asia",
          "Asia",
          "Asia",
          "Asia",
          "Asia",
          "Asia",
          "Asia",
          "Asia",
          "Asia",
          "Asia",
          "Asia",
          "Asia",
          "Asia",
          "Asia",
          "Asia",
          "Asia",
          "Asia",
          "Asia",
          "Asia",
          "Asia",
          "Asia",
          "Asia",
          "Asia",
          "Asia",
          "Asia",
          "Asia",
          "Asia",
          "Asia",
          "Asia",
          "Asia",
          "Asia",
          "Asia",
          "Asia",
          "Asia",
          "Asia",
          "Asia",
          "Asia",
          "Asia",
          "Asia",
          "Asia",
          "Asia",
          "Asia",
          "Asia",
          "Asia",
          "Asia",
          "Asia",
          "Asia",
          "Asia",
          "Asia",
          "Asia",
          "Asia",
          "Asia",
          "Asia",
          "Asia",
          "Asia",
          "Asia",
          "Asia",
          "Asia",
          "Asia",
          "Asia",
          "Asia",
          "Asia",
          "Asia",
          "Asia",
          "Asia"
         ],
         "x0": " ",
         "xaxis": "x",
         "y": [
          65.2877040065,
          58.3500468255,
          96.7420454545,
          69.5052959617,
          58.389862877,
          58.105521340200006,
          12.3473285921,
          15.8051428327,
          16.557411789,
          22.9470478067,
          45.3177088819,
          64.2708081103,
          72.94217881899999,
          14.4875132406,
          15.0398612938,
          20.1026620472,
          26.7164353002,
          9.42488847372,
          11.723082627,
          14.9815485884,
          25.1519079066,
          27.1201247208,
          28.1346335393,
          26.3918424154,
          25.3935314931,
          1.3387380938299998,
          42.3411609934,
          49.1919962299,
          28.1930139321,
          44.3365198368,
          32.587292588400004,
          35.6972911543,
          41.0701019971,
          7.643451906869999,
          9.49188652841,
          9.66739032943,
          15.6005719141,
          81.4065893831,
          71.5829118173,
          66.632176737,
          91.7584082453,
          54.2177987777,
          39.5915918101,
          36.6091466782,
          28.3171173383,
          75.8579855593,
          47.5546391753,
          34.9438902743,
          63.0607287449,
          74.6278561995,
          92.3753082915,
          91.0509065478,
          86.2975320889,
          36.3626536496,
          47.32510391939999,
          67.7906371355,
          58.2659779932,
          0.225449347209,
          0.0795059581624,
          25.7356870079,
          37.7076998214,
          28.4935889762,
          31.7236101436,
          35.5479437749,
          38.5910173249,
          27.9151441594,
          39.9893707746,
          20.5285578209,
          20.7703128758,
          15.3140127214,
          19.7758151542,
          34.0281852291,
          59.29383539999999,
          55.6880751307,
          43.3586106398,
          36.1921329627,
          26.1824690647,
          23.7762475126,
          34.9258769575,
          149.51131554,
          155.486859844,
          168.31371458,
          183.915527311,
          41.0333824771,
          43.5994352288,
          41.4218015848,
          39.4915119731,
          40.9821700246,
          46.8148412659,
          54.3239904201,
          61.0009114941,
          38.8312898757,
          51.2417759691,
          57.249342474,
          84.0875093943,
          73.04111867479999,
          62.8156816898,
          77.8106722688
         ],
         "y0": " ",
         "yaxis": "y"
        },
        {
         "alignmentgroup": "True",
         "boxpoints": "all",
         "hovertemplate": "continent=%{x}<br>Imports of goods and services (% of GDP)=%{y}<extra></extra>",
         "legendgroup": "Europe",
         "marker": {
          "color": "#EF553B"
         },
         "name": "Europe",
         "notched": false,
         "offsetgroup": "Europe",
         "orientation": "v",
         "showlegend": true,
         "type": "box",
         "x": [
          "Europe",
          "Europe",
          "Europe",
          "Europe",
          "Europe",
          "Europe",
          "Europe",
          "Europe",
          "Europe",
          "Europe",
          "Europe",
          "Europe",
          "Europe",
          "Europe",
          "Europe",
          "Europe",
          "Europe",
          "Europe",
          "Europe",
          "Europe",
          "Europe",
          "Europe",
          "Europe",
          "Europe",
          "Europe",
          "Europe",
          "Europe",
          "Europe",
          "Europe",
          "Europe",
          "Europe",
          "Europe",
          "Europe",
          "Europe",
          "Europe",
          "Europe",
          "Europe",
          "Europe",
          "Europe",
          "Europe",
          "Europe",
          "Europe",
          "Europe",
          "Europe",
          "Europe",
          "Europe",
          "Europe",
          "Europe",
          "Europe",
          "Europe",
          "Europe",
          "Europe",
          "Europe",
          "Europe",
          "Europe",
          "Europe",
          "Europe",
          "Europe",
          "Europe",
          "Europe",
          "Europe",
          "Europe",
          "Europe",
          "Europe",
          "Europe",
          "Europe",
          "Europe",
          "Europe",
          "Europe",
          "Europe",
          "Europe",
          "Europe",
          "Europe",
          "Europe",
          "Europe",
          "Europe",
          "Europe",
          "Europe",
          "Europe",
          "Europe",
          "Europe",
          "Europe",
          "Europe",
          "Europe",
          "Europe",
          "Europe",
          "Europe",
          "Europe",
          "Europe",
          "Europe",
          "Europe",
          "Europe",
          "Europe",
          "Europe",
          "Europe",
          "Europe",
          "Europe",
          "Europe",
          "Europe",
          "Europe",
          "Europe",
          "Europe",
          "Europe",
          "Europe",
          "Europe",
          "Europe",
          "Europe",
          "Europe",
          "Europe",
          "Europe",
          "Europe",
          "Europe",
          "Europe",
          "Europe"
         ],
         "x0": " ",
         "xaxis": "x",
         "y": [
          88.5122484875,
          34.1899954311,
          44.3353664726,
          54.7882006817,
          34.5289764917,
          37.8834640896,
          41.6507009529,
          48.3336828443,
          56.0198770682,
          60.4699234894,
          64.8101122243,
          73.6727852921,
          72.797329856,
          70.9293545706,
          56.4586949513,
          52.938247012,
          37.2840983857,
          41.7304308008,
          70.6481778799,
          44.2274001589,
          45.5475127824,
          46.26795219,
          39.0048670058,
          44.7363476681,
          46.5234495636,
          64.1024536911,
          30.1104077732,
          33.4544366297,
          38.8921703701,
          48.502240028,
          24.6770848065,
          30.4628943994,
          30.2045330402,
          39.1791364747,
          20.5079690124,
          22.3386387575,
          25.3757388229,
          28.4193105717,
          22.7863176274,
          24.2090600837,
          28.1989688995,
          36.3606196011,
          23.9437536025,
          23.0519635059,
          30.2361418116,
          35.0041044594,
          27.8478918237,
          46.9886021788,
          60.117586376800006,
          77.6183100564,
          29.731456037,
          34.9518564867,
          34.5066481223,
          42.5353946584,
          51.0894327446,
          65.17606264310001,
          73.295336366,
          72.4776748214,
          17.4871644619,
          20.4814697289,
          23.7262338729,
          27.7864496661,
          59.8844129108,
          86.6989968539,
          48.7843340291,
          54.20113381979999,
          53.959648211,
          61.4482781111,
          30.5310708615,
          32.5057564723,
          27.2520303734,
          29.8897253923,
          19.9467339483,
          27.1144798245,
          32.1662388033,
          42.0974145444,
          31.8454729567,
          35.141898248800004,
          35.2155009835,
          38.6473370483,
          36.1988323492,
          34.7505362196,
          40.8248050842,
          43.4469976538,
          29.8848078941,
          38.7253440201,
          52.66337379310001,
          69.7293093289,
          64.4734963454,
          64.7137426173,
          84.3950908526,
          48.7322747634,
          51.1695761128,
          68.8949043961,
          19.7473148836,
          25.5385108358,
          28.5057281045,
          31.6987214183,
          25.0010584659,
          33.102555836,
          35.7735159206,
          41.2817143067,
          37.6912446806,
          42.1233310838,
          42.258312305100006,
          50.2696323325,
          17.3451299105,
          30.3886058881,
          23.5827728271,
          27.4838724792,
          22.8596273413,
          25.1006811488,
          26.6895890682,
          27.4732345237
         ],
         "y0": " ",
         "yaxis": "y"
        }
       ],
       "layout": {
        "annotations": [
         {
          "font": {
           "size": 14
          },
          "showarrow": false,
          "text": "T-test p = 0.1776",
          "x": 0.5,
          "xref": "paper",
          "y": 188.915527311,
          "yanchor": "bottom"
         }
        ],
        "boxmode": "overlay",
        "legend": {
         "title": {
          "text": "continent"
         },
         "tracegroupgap": 0
        },
        "template": {
         "data": {
          "bar": [
           {
            "error_x": {
             "color": "#2a3f5f"
            },
            "error_y": {
             "color": "#2a3f5f"
            },
            "marker": {
             "line": {
              "color": "#E5ECF6",
              "width": 0.5
             },
             "pattern": {
              "fillmode": "overlay",
              "size": 10,
              "solidity": 0.2
             }
            },
            "type": "bar"
           }
          ],
          "barpolar": [
           {
            "marker": {
             "line": {
              "color": "#E5ECF6",
              "width": 0.5
             },
             "pattern": {
              "fillmode": "overlay",
              "size": 10,
              "solidity": 0.2
             }
            },
            "type": "barpolar"
           }
          ],
          "carpet": [
           {
            "aaxis": {
             "endlinecolor": "#2a3f5f",
             "gridcolor": "white",
             "linecolor": "white",
             "minorgridcolor": "white",
             "startlinecolor": "#2a3f5f"
            },
            "baxis": {
             "endlinecolor": "#2a3f5f",
             "gridcolor": "white",
             "linecolor": "white",
             "minorgridcolor": "white",
             "startlinecolor": "#2a3f5f"
            },
            "type": "carpet"
           }
          ],
          "choropleth": [
           {
            "colorbar": {
             "outlinewidth": 0,
             "ticks": ""
            },
            "type": "choropleth"
           }
          ],
          "contour": [
           {
            "colorbar": {
             "outlinewidth": 0,
             "ticks": ""
            },
            "colorscale": [
             [
              0,
              "#0d0887"
             ],
             [
              0.1111111111111111,
              "#46039f"
             ],
             [
              0.2222222222222222,
              "#7201a8"
             ],
             [
              0.3333333333333333,
              "#9c179e"
             ],
             [
              0.4444444444444444,
              "#bd3786"
             ],
             [
              0.5555555555555556,
              "#d8576b"
             ],
             [
              0.6666666666666666,
              "#ed7953"
             ],
             [
              0.7777777777777778,
              "#fb9f3a"
             ],
             [
              0.8888888888888888,
              "#fdca26"
             ],
             [
              1,
              "#f0f921"
             ]
            ],
            "type": "contour"
           }
          ],
          "contourcarpet": [
           {
            "colorbar": {
             "outlinewidth": 0,
             "ticks": ""
            },
            "type": "contourcarpet"
           }
          ],
          "heatmap": [
           {
            "colorbar": {
             "outlinewidth": 0,
             "ticks": ""
            },
            "colorscale": [
             [
              0,
              "#0d0887"
             ],
             [
              0.1111111111111111,
              "#46039f"
             ],
             [
              0.2222222222222222,
              "#7201a8"
             ],
             [
              0.3333333333333333,
              "#9c179e"
             ],
             [
              0.4444444444444444,
              "#bd3786"
             ],
             [
              0.5555555555555556,
              "#d8576b"
             ],
             [
              0.6666666666666666,
              "#ed7953"
             ],
             [
              0.7777777777777778,
              "#fb9f3a"
             ],
             [
              0.8888888888888888,
              "#fdca26"
             ],
             [
              1,
              "#f0f921"
             ]
            ],
            "type": "heatmap"
           }
          ],
          "heatmapgl": [
           {
            "colorbar": {
             "outlinewidth": 0,
             "ticks": ""
            },
            "colorscale": [
             [
              0,
              "#0d0887"
             ],
             [
              0.1111111111111111,
              "#46039f"
             ],
             [
              0.2222222222222222,
              "#7201a8"
             ],
             [
              0.3333333333333333,
              "#9c179e"
             ],
             [
              0.4444444444444444,
              "#bd3786"
             ],
             [
              0.5555555555555556,
              "#d8576b"
             ],
             [
              0.6666666666666666,
              "#ed7953"
             ],
             [
              0.7777777777777778,
              "#fb9f3a"
             ],
             [
              0.8888888888888888,
              "#fdca26"
             ],
             [
              1,
              "#f0f921"
             ]
            ],
            "type": "heatmapgl"
           }
          ],
          "histogram": [
           {
            "marker": {
             "pattern": {
              "fillmode": "overlay",
              "size": 10,
              "solidity": 0.2
             }
            },
            "type": "histogram"
           }
          ],
          "histogram2d": [
           {
            "colorbar": {
             "outlinewidth": 0,
             "ticks": ""
            },
            "colorscale": [
             [
              0,
              "#0d0887"
             ],
             [
              0.1111111111111111,
              "#46039f"
             ],
             [
              0.2222222222222222,
              "#7201a8"
             ],
             [
              0.3333333333333333,
              "#9c179e"
             ],
             [
              0.4444444444444444,
              "#bd3786"
             ],
             [
              0.5555555555555556,
              "#d8576b"
             ],
             [
              0.6666666666666666,
              "#ed7953"
             ],
             [
              0.7777777777777778,
              "#fb9f3a"
             ],
             [
              0.8888888888888888,
              "#fdca26"
             ],
             [
              1,
              "#f0f921"
             ]
            ],
            "type": "histogram2d"
           }
          ],
          "histogram2dcontour": [
           {
            "colorbar": {
             "outlinewidth": 0,
             "ticks": ""
            },
            "colorscale": [
             [
              0,
              "#0d0887"
             ],
             [
              0.1111111111111111,
              "#46039f"
             ],
             [
              0.2222222222222222,
              "#7201a8"
             ],
             [
              0.3333333333333333,
              "#9c179e"
             ],
             [
              0.4444444444444444,
              "#bd3786"
             ],
             [
              0.5555555555555556,
              "#d8576b"
             ],
             [
              0.6666666666666666,
              "#ed7953"
             ],
             [
              0.7777777777777778,
              "#fb9f3a"
             ],
             [
              0.8888888888888888,
              "#fdca26"
             ],
             [
              1,
              "#f0f921"
             ]
            ],
            "type": "histogram2dcontour"
           }
          ],
          "mesh3d": [
           {
            "colorbar": {
             "outlinewidth": 0,
             "ticks": ""
            },
            "type": "mesh3d"
           }
          ],
          "parcoords": [
           {
            "line": {
             "colorbar": {
              "outlinewidth": 0,
              "ticks": ""
             }
            },
            "type": "parcoords"
           }
          ],
          "pie": [
           {
            "automargin": true,
            "type": "pie"
           }
          ],
          "scatter": [
           {
            "fillpattern": {
             "fillmode": "overlay",
             "size": 10,
             "solidity": 0.2
            },
            "type": "scatter"
           }
          ],
          "scatter3d": [
           {
            "line": {
             "colorbar": {
              "outlinewidth": 0,
              "ticks": ""
             }
            },
            "marker": {
             "colorbar": {
              "outlinewidth": 0,
              "ticks": ""
             }
            },
            "type": "scatter3d"
           }
          ],
          "scattercarpet": [
           {
            "marker": {
             "colorbar": {
              "outlinewidth": 0,
              "ticks": ""
             }
            },
            "type": "scattercarpet"
           }
          ],
          "scattergeo": [
           {
            "marker": {
             "colorbar": {
              "outlinewidth": 0,
              "ticks": ""
             }
            },
            "type": "scattergeo"
           }
          ],
          "scattergl": [
           {
            "marker": {
             "colorbar": {
              "outlinewidth": 0,
              "ticks": ""
             }
            },
            "type": "scattergl"
           }
          ],
          "scattermapbox": [
           {
            "marker": {
             "colorbar": {
              "outlinewidth": 0,
              "ticks": ""
             }
            },
            "type": "scattermapbox"
           }
          ],
          "scatterpolar": [
           {
            "marker": {
             "colorbar": {
              "outlinewidth": 0,
              "ticks": ""
             }
            },
            "type": "scatterpolar"
           }
          ],
          "scatterpolargl": [
           {
            "marker": {
             "colorbar": {
              "outlinewidth": 0,
              "ticks": ""
             }
            },
            "type": "scatterpolargl"
           }
          ],
          "scatterternary": [
           {
            "marker": {
             "colorbar": {
              "outlinewidth": 0,
              "ticks": ""
             }
            },
            "type": "scatterternary"
           }
          ],
          "surface": [
           {
            "colorbar": {
             "outlinewidth": 0,
             "ticks": ""
            },
            "colorscale": [
             [
              0,
              "#0d0887"
             ],
             [
              0.1111111111111111,
              "#46039f"
             ],
             [
              0.2222222222222222,
              "#7201a8"
             ],
             [
              0.3333333333333333,
              "#9c179e"
             ],
             [
              0.4444444444444444,
              "#bd3786"
             ],
             [
              0.5555555555555556,
              "#d8576b"
             ],
             [
              0.6666666666666666,
              "#ed7953"
             ],
             [
              0.7777777777777778,
              "#fb9f3a"
             ],
             [
              0.8888888888888888,
              "#fdca26"
             ],
             [
              1,
              "#f0f921"
             ]
            ],
            "type": "surface"
           }
          ],
          "table": [
           {
            "cells": {
             "fill": {
              "color": "#EBF0F8"
             },
             "line": {
              "color": "white"
             }
            },
            "header": {
             "fill": {
              "color": "#C8D4E3"
             },
             "line": {
              "color": "white"
             }
            },
            "type": "table"
           }
          ]
         },
         "layout": {
          "annotationdefaults": {
           "arrowcolor": "#2a3f5f",
           "arrowhead": 0,
           "arrowwidth": 1
          },
          "autotypenumbers": "strict",
          "coloraxis": {
           "colorbar": {
            "outlinewidth": 0,
            "ticks": ""
           }
          },
          "colorscale": {
           "diverging": [
            [
             0,
             "#8e0152"
            ],
            [
             0.1,
             "#c51b7d"
            ],
            [
             0.2,
             "#de77ae"
            ],
            [
             0.3,
             "#f1b6da"
            ],
            [
             0.4,
             "#fde0ef"
            ],
            [
             0.5,
             "#f7f7f7"
            ],
            [
             0.6,
             "#e6f5d0"
            ],
            [
             0.7,
             "#b8e186"
            ],
            [
             0.8,
             "#7fbc41"
            ],
            [
             0.9,
             "#4d9221"
            ],
            [
             1,
             "#276419"
            ]
           ],
           "sequential": [
            [
             0,
             "#0d0887"
            ],
            [
             0.1111111111111111,
             "#46039f"
            ],
            [
             0.2222222222222222,
             "#7201a8"
            ],
            [
             0.3333333333333333,
             "#9c179e"
            ],
            [
             0.4444444444444444,
             "#bd3786"
            ],
            [
             0.5555555555555556,
             "#d8576b"
            ],
            [
             0.6666666666666666,
             "#ed7953"
            ],
            [
             0.7777777777777778,
             "#fb9f3a"
            ],
            [
             0.8888888888888888,
             "#fdca26"
            ],
            [
             1,
             "#f0f921"
            ]
           ],
           "sequentialminus": [
            [
             0,
             "#0d0887"
            ],
            [
             0.1111111111111111,
             "#46039f"
            ],
            [
             0.2222222222222222,
             "#7201a8"
            ],
            [
             0.3333333333333333,
             "#9c179e"
            ],
            [
             0.4444444444444444,
             "#bd3786"
            ],
            [
             0.5555555555555556,
             "#d8576b"
            ],
            [
             0.6666666666666666,
             "#ed7953"
            ],
            [
             0.7777777777777778,
             "#fb9f3a"
            ],
            [
             0.8888888888888888,
             "#fdca26"
            ],
            [
             1,
             "#f0f921"
            ]
           ]
          },
          "colorway": [
           "#636efa",
           "#EF553B",
           "#00cc96",
           "#ab63fa",
           "#FFA15A",
           "#19d3f3",
           "#FF6692",
           "#B6E880",
           "#FF97FF",
           "#FECB52"
          ],
          "font": {
           "color": "#2a3f5f"
          },
          "geo": {
           "bgcolor": "white",
           "lakecolor": "white",
           "landcolor": "#E5ECF6",
           "showlakes": true,
           "showland": true,
           "subunitcolor": "white"
          },
          "hoverlabel": {
           "align": "left"
          },
          "hovermode": "closest",
          "mapbox": {
           "style": "light"
          },
          "paper_bgcolor": "white",
          "plot_bgcolor": "#E5ECF6",
          "polar": {
           "angularaxis": {
            "gridcolor": "white",
            "linecolor": "white",
            "ticks": ""
           },
           "bgcolor": "#E5ECF6",
           "radialaxis": {
            "gridcolor": "white",
            "linecolor": "white",
            "ticks": ""
           }
          },
          "scene": {
           "xaxis": {
            "backgroundcolor": "#E5ECF6",
            "gridcolor": "white",
            "gridwidth": 2,
            "linecolor": "white",
            "showbackground": true,
            "ticks": "",
            "zerolinecolor": "white"
           },
           "yaxis": {
            "backgroundcolor": "#E5ECF6",
            "gridcolor": "white",
            "gridwidth": 2,
            "linecolor": "white",
            "showbackground": true,
            "ticks": "",
            "zerolinecolor": "white"
           },
           "zaxis": {
            "backgroundcolor": "#E5ECF6",
            "gridcolor": "white",
            "gridwidth": 2,
            "linecolor": "white",
            "showbackground": true,
            "ticks": "",
            "zerolinecolor": "white"
           }
          },
          "shapedefaults": {
           "line": {
            "color": "#2a3f5f"
           }
          },
          "ternary": {
           "aaxis": {
            "gridcolor": "white",
            "linecolor": "white",
            "ticks": ""
           },
           "baxis": {
            "gridcolor": "white",
            "linecolor": "white",
            "ticks": ""
           },
           "bgcolor": "#E5ECF6",
           "caxis": {
            "gridcolor": "white",
            "linecolor": "white",
            "ticks": ""
           }
          },
          "title": {
           "x": 0.05
          },
          "xaxis": {
           "automargin": true,
           "gridcolor": "white",
           "linecolor": "white",
           "ticks": "",
           "title": {
            "standoff": 15
           },
           "zerolinecolor": "white",
           "zerolinewidth": 2
          },
          "yaxis": {
           "automargin": true,
           "gridcolor": "white",
           "linecolor": "white",
           "ticks": "",
           "title": {
            "standoff": 15
           },
           "zerolinecolor": "white",
           "zerolinewidth": 2
          }
         }
        },
        "title": {
         "text": "Imports of Goods and Services (% of GDP) in Europe vs Asia (After 1990)"
        },
        "xaxis": {
         "anchor": "y",
         "categoryarray": [
          "Asia",
          "Europe"
         ],
         "categoryorder": "array",
         "domain": [
          0,
          1
         ],
         "title": {
          "text": "continent"
         }
        },
        "yaxis": {
         "anchor": "x",
         "domain": [
          0,
          1
         ],
         "title": {
          "text": "Imports of goods and services (% of GDP)"
         }
        }
       }
      }
     },
     "metadata": {},
     "output_type": "display_data"
    }
   ],
   "source": [
    "# 2. Is there a significant difference between Europe and Asia with respect to 'Imports of goods and services (% of GDP)' in the years after 1990? (Stats test needed)\n",
    "\n",
    "import plotly.express as px\n",
    "from scipy.stats import ttest_ind, levene, shapiro\n",
    "\n",
    "# Filtered data\n",
    "filtered = df[\n",
    "    (df['continent'].isin(['Europe', 'Asia'])) &\n",
    "    (df['Year'] > 1990) &\n",
    "    (df['Imports of goods and services (% of GDP)'].notna())\n",
    "]\n",
    "\n",
    "# Values\n",
    "europe_vals = filtered[filtered['continent'] == 'Europe']['Imports of goods and services (% of GDP)']\n",
    "asia_vals = filtered[filtered['continent'] == 'Asia']['Imports of goods and services (% of GDP)']\n",
    "\n",
    "# Normality\n",
    "shapiro_europe = shapiro(europe_vals)\n",
    "shapiro_asia = shapiro(asia_vals)\n",
    "\n",
    "# Variance\n",
    "levene_test = levene(europe_vals, asia_vals)\n",
    "equal_var = levene_test.pvalue > 0.05\n",
    "\n",
    "# T-test\n",
    "ttest = ttest_ind(europe_vals, asia_vals, equal_var=equal_var)\n",
    "\n",
    "# Plot\n",
    "fig = px.box(\n",
    "    filtered,\n",
    "    x='continent',\n",
    "    y='Imports of goods and services (% of GDP)',\n",
    "    color='continent',\n",
    "    points='all',\n",
    "    title='Imports of Goods and Services (% of GDP) in Europe vs Asia (After 1990)'\n",
    ")\n",
    "\n",
    "# Annotate with p-value\n",
    "fig.add_annotation(\n",
    "    x=0.5,\n",
    "    y=filtered['Imports of goods and services (% of GDP)'].max() + 5,\n",
    "    text=f\"T-test p = {ttest.pvalue:.4f}\",\n",
    "    showarrow=False,\n",
    "    font=dict(size=14),\n",
    "    xref='paper',\n",
    "    yanchor='bottom'\n",
    ")\n",
    "\n",
    "fig.show()\n"
   ]
  },
  {
   "cell_type": "code",
   "execution_count": 70,
   "id": "b15c9e20-4bb5-423c-b853-285c5cb673ac",
   "metadata": {},
   "outputs": [
    {
     "name": "stdout",
     "output_type": "stream",
     "text": [
      "Top consistently ranked country/countries: ['Macao SAR, China', 'Monaco']\n"
     ]
    },
    {
     "name": "stderr",
     "output_type": "stream",
     "text": [
      "C:\\Users\\User\\AppData\\Local\\Temp\\ipykernel_18224\\208494333.py:13: DeprecationWarning:\n",
      "\n",
      "DataFrameGroupBy.apply operated on the grouping columns. This behavior is deprecated, and in a future version of pandas the grouping columns will be excluded from the operation. Either pass `include_groups=False` to exclude the groupings or explicitly select the grouping columns after groupby to silence this warning.\n",
      "\n"
     ]
    },
    {
     "data": {
      "application/vnd.plotly.v1+json": {
       "config": {
        "plotlyServerURL": "https://plot.ly"
       },
       "data": [
        {
         "hovertemplate": "Country Name=Macao SAR, China<br>Year=%{x}<br>Population density (people per sq. km of land area)=%{y}<extra></extra>",
         "legendgroup": "Macao SAR, China",
         "line": {
          "color": "#636efa",
          "dash": "solid"
         },
         "marker": {
          "symbol": "circle"
         },
         "mode": "lines+markers",
         "name": "Macao SAR, China",
         "orientation": "v",
         "showlegend": true,
         "type": "scatter",
         "x": [
          1962,
          1967,
          1972,
          1977,
          1982,
          1987,
          1992,
          1997,
          2002,
          2007
         ],
         "xaxis": "x",
         "y": [
          9051.25,
          11362.9,
          12714.1,
          12186.45,
          13046.05,
          16132.75,
          18889.95,
          20601.55,
          16451.037037000002,
          16884.3150685
         ],
         "yaxis": "y"
        },
        {
         "hovertemplate": "Country Name=Monaco<br>Year=%{x}<br>Population density (people per sq. km of land area)=%{y}<extra></extra>",
         "legendgroup": "Monaco",
         "line": {
          "color": "#EF553B",
          "dash": "solid"
         },
         "marker": {
          "symbol": "circle"
         },
         "mode": "lines+markers",
         "name": "Monaco",
         "orientation": "v",
         "showlegend": true,
         "type": "scatter",
         "x": [
          1962,
          1967,
          1972,
          1977,
          1982,
          1987,
          1992,
          1997,
          2002,
          2007
         ],
         "xaxis": "x",
         "y": [
          11521,
          11648.5,
          12026,
          12904.5,
          13814.5,
          14584.5,
          14932,
          15621,
          16324,
          17523
         ],
         "yaxis": "y"
        }
       ],
       "layout": {
        "legend": {
         "title": {
          "text": "Country Name"
         },
         "tracegroupgap": 0
        },
        "template": {
         "data": {
          "bar": [
           {
            "error_x": {
             "color": "#2a3f5f"
            },
            "error_y": {
             "color": "#2a3f5f"
            },
            "marker": {
             "line": {
              "color": "#E5ECF6",
              "width": 0.5
             },
             "pattern": {
              "fillmode": "overlay",
              "size": 10,
              "solidity": 0.2
             }
            },
            "type": "bar"
           }
          ],
          "barpolar": [
           {
            "marker": {
             "line": {
              "color": "#E5ECF6",
              "width": 0.5
             },
             "pattern": {
              "fillmode": "overlay",
              "size": 10,
              "solidity": 0.2
             }
            },
            "type": "barpolar"
           }
          ],
          "carpet": [
           {
            "aaxis": {
             "endlinecolor": "#2a3f5f",
             "gridcolor": "white",
             "linecolor": "white",
             "minorgridcolor": "white",
             "startlinecolor": "#2a3f5f"
            },
            "baxis": {
             "endlinecolor": "#2a3f5f",
             "gridcolor": "white",
             "linecolor": "white",
             "minorgridcolor": "white",
             "startlinecolor": "#2a3f5f"
            },
            "type": "carpet"
           }
          ],
          "choropleth": [
           {
            "colorbar": {
             "outlinewidth": 0,
             "ticks": ""
            },
            "type": "choropleth"
           }
          ],
          "contour": [
           {
            "colorbar": {
             "outlinewidth": 0,
             "ticks": ""
            },
            "colorscale": [
             [
              0,
              "#0d0887"
             ],
             [
              0.1111111111111111,
              "#46039f"
             ],
             [
              0.2222222222222222,
              "#7201a8"
             ],
             [
              0.3333333333333333,
              "#9c179e"
             ],
             [
              0.4444444444444444,
              "#bd3786"
             ],
             [
              0.5555555555555556,
              "#d8576b"
             ],
             [
              0.6666666666666666,
              "#ed7953"
             ],
             [
              0.7777777777777778,
              "#fb9f3a"
             ],
             [
              0.8888888888888888,
              "#fdca26"
             ],
             [
              1,
              "#f0f921"
             ]
            ],
            "type": "contour"
           }
          ],
          "contourcarpet": [
           {
            "colorbar": {
             "outlinewidth": 0,
             "ticks": ""
            },
            "type": "contourcarpet"
           }
          ],
          "heatmap": [
           {
            "colorbar": {
             "outlinewidth": 0,
             "ticks": ""
            },
            "colorscale": [
             [
              0,
              "#0d0887"
             ],
             [
              0.1111111111111111,
              "#46039f"
             ],
             [
              0.2222222222222222,
              "#7201a8"
             ],
             [
              0.3333333333333333,
              "#9c179e"
             ],
             [
              0.4444444444444444,
              "#bd3786"
             ],
             [
              0.5555555555555556,
              "#d8576b"
             ],
             [
              0.6666666666666666,
              "#ed7953"
             ],
             [
              0.7777777777777778,
              "#fb9f3a"
             ],
             [
              0.8888888888888888,
              "#fdca26"
             ],
             [
              1,
              "#f0f921"
             ]
            ],
            "type": "heatmap"
           }
          ],
          "heatmapgl": [
           {
            "colorbar": {
             "outlinewidth": 0,
             "ticks": ""
            },
            "colorscale": [
             [
              0,
              "#0d0887"
             ],
             [
              0.1111111111111111,
              "#46039f"
             ],
             [
              0.2222222222222222,
              "#7201a8"
             ],
             [
              0.3333333333333333,
              "#9c179e"
             ],
             [
              0.4444444444444444,
              "#bd3786"
             ],
             [
              0.5555555555555556,
              "#d8576b"
             ],
             [
              0.6666666666666666,
              "#ed7953"
             ],
             [
              0.7777777777777778,
              "#fb9f3a"
             ],
             [
              0.8888888888888888,
              "#fdca26"
             ],
             [
              1,
              "#f0f921"
             ]
            ],
            "type": "heatmapgl"
           }
          ],
          "histogram": [
           {
            "marker": {
             "pattern": {
              "fillmode": "overlay",
              "size": 10,
              "solidity": 0.2
             }
            },
            "type": "histogram"
           }
          ],
          "histogram2d": [
           {
            "colorbar": {
             "outlinewidth": 0,
             "ticks": ""
            },
            "colorscale": [
             [
              0,
              "#0d0887"
             ],
             [
              0.1111111111111111,
              "#46039f"
             ],
             [
              0.2222222222222222,
              "#7201a8"
             ],
             [
              0.3333333333333333,
              "#9c179e"
             ],
             [
              0.4444444444444444,
              "#bd3786"
             ],
             [
              0.5555555555555556,
              "#d8576b"
             ],
             [
              0.6666666666666666,
              "#ed7953"
             ],
             [
              0.7777777777777778,
              "#fb9f3a"
             ],
             [
              0.8888888888888888,
              "#fdca26"
             ],
             [
              1,
              "#f0f921"
             ]
            ],
            "type": "histogram2d"
           }
          ],
          "histogram2dcontour": [
           {
            "colorbar": {
             "outlinewidth": 0,
             "ticks": ""
            },
            "colorscale": [
             [
              0,
              "#0d0887"
             ],
             [
              0.1111111111111111,
              "#46039f"
             ],
             [
              0.2222222222222222,
              "#7201a8"
             ],
             [
              0.3333333333333333,
              "#9c179e"
             ],
             [
              0.4444444444444444,
              "#bd3786"
             ],
             [
              0.5555555555555556,
              "#d8576b"
             ],
             [
              0.6666666666666666,
              "#ed7953"
             ],
             [
              0.7777777777777778,
              "#fb9f3a"
             ],
             [
              0.8888888888888888,
              "#fdca26"
             ],
             [
              1,
              "#f0f921"
             ]
            ],
            "type": "histogram2dcontour"
           }
          ],
          "mesh3d": [
           {
            "colorbar": {
             "outlinewidth": 0,
             "ticks": ""
            },
            "type": "mesh3d"
           }
          ],
          "parcoords": [
           {
            "line": {
             "colorbar": {
              "outlinewidth": 0,
              "ticks": ""
             }
            },
            "type": "parcoords"
           }
          ],
          "pie": [
           {
            "automargin": true,
            "type": "pie"
           }
          ],
          "scatter": [
           {
            "fillpattern": {
             "fillmode": "overlay",
             "size": 10,
             "solidity": 0.2
            },
            "type": "scatter"
           }
          ],
          "scatter3d": [
           {
            "line": {
             "colorbar": {
              "outlinewidth": 0,
              "ticks": ""
             }
            },
            "marker": {
             "colorbar": {
              "outlinewidth": 0,
              "ticks": ""
             }
            },
            "type": "scatter3d"
           }
          ],
          "scattercarpet": [
           {
            "marker": {
             "colorbar": {
              "outlinewidth": 0,
              "ticks": ""
             }
            },
            "type": "scattercarpet"
           }
          ],
          "scattergeo": [
           {
            "marker": {
             "colorbar": {
              "outlinewidth": 0,
              "ticks": ""
             }
            },
            "type": "scattergeo"
           }
          ],
          "scattergl": [
           {
            "marker": {
             "colorbar": {
              "outlinewidth": 0,
              "ticks": ""
             }
            },
            "type": "scattergl"
           }
          ],
          "scattermapbox": [
           {
            "marker": {
             "colorbar": {
              "outlinewidth": 0,
              "ticks": ""
             }
            },
            "type": "scattermapbox"
           }
          ],
          "scatterpolar": [
           {
            "marker": {
             "colorbar": {
              "outlinewidth": 0,
              "ticks": ""
             }
            },
            "type": "scatterpolar"
           }
          ],
          "scatterpolargl": [
           {
            "marker": {
             "colorbar": {
              "outlinewidth": 0,
              "ticks": ""
             }
            },
            "type": "scatterpolargl"
           }
          ],
          "scatterternary": [
           {
            "marker": {
             "colorbar": {
              "outlinewidth": 0,
              "ticks": ""
             }
            },
            "type": "scatterternary"
           }
          ],
          "surface": [
           {
            "colorbar": {
             "outlinewidth": 0,
             "ticks": ""
            },
            "colorscale": [
             [
              0,
              "#0d0887"
             ],
             [
              0.1111111111111111,
              "#46039f"
             ],
             [
              0.2222222222222222,
              "#7201a8"
             ],
             [
              0.3333333333333333,
              "#9c179e"
             ],
             [
              0.4444444444444444,
              "#bd3786"
             ],
             [
              0.5555555555555556,
              "#d8576b"
             ],
             [
              0.6666666666666666,
              "#ed7953"
             ],
             [
              0.7777777777777778,
              "#fb9f3a"
             ],
             [
              0.8888888888888888,
              "#fdca26"
             ],
             [
              1,
              "#f0f921"
             ]
            ],
            "type": "surface"
           }
          ],
          "table": [
           {
            "cells": {
             "fill": {
              "color": "#EBF0F8"
             },
             "line": {
              "color": "white"
             }
            },
            "header": {
             "fill": {
              "color": "#C8D4E3"
             },
             "line": {
              "color": "white"
             }
            },
            "type": "table"
           }
          ]
         },
         "layout": {
          "annotationdefaults": {
           "arrowcolor": "#2a3f5f",
           "arrowhead": 0,
           "arrowwidth": 1
          },
          "autotypenumbers": "strict",
          "coloraxis": {
           "colorbar": {
            "outlinewidth": 0,
            "ticks": ""
           }
          },
          "colorscale": {
           "diverging": [
            [
             0,
             "#8e0152"
            ],
            [
             0.1,
             "#c51b7d"
            ],
            [
             0.2,
             "#de77ae"
            ],
            [
             0.3,
             "#f1b6da"
            ],
            [
             0.4,
             "#fde0ef"
            ],
            [
             0.5,
             "#f7f7f7"
            ],
            [
             0.6,
             "#e6f5d0"
            ],
            [
             0.7,
             "#b8e186"
            ],
            [
             0.8,
             "#7fbc41"
            ],
            [
             0.9,
             "#4d9221"
            ],
            [
             1,
             "#276419"
            ]
           ],
           "sequential": [
            [
             0,
             "#0d0887"
            ],
            [
             0.1111111111111111,
             "#46039f"
            ],
            [
             0.2222222222222222,
             "#7201a8"
            ],
            [
             0.3333333333333333,
             "#9c179e"
            ],
            [
             0.4444444444444444,
             "#bd3786"
            ],
            [
             0.5555555555555556,
             "#d8576b"
            ],
            [
             0.6666666666666666,
             "#ed7953"
            ],
            [
             0.7777777777777778,
             "#fb9f3a"
            ],
            [
             0.8888888888888888,
             "#fdca26"
            ],
            [
             1,
             "#f0f921"
            ]
           ],
           "sequentialminus": [
            [
             0,
             "#0d0887"
            ],
            [
             0.1111111111111111,
             "#46039f"
            ],
            [
             0.2222222222222222,
             "#7201a8"
            ],
            [
             0.3333333333333333,
             "#9c179e"
            ],
            [
             0.4444444444444444,
             "#bd3786"
            ],
            [
             0.5555555555555556,
             "#d8576b"
            ],
            [
             0.6666666666666666,
             "#ed7953"
            ],
            [
             0.7777777777777778,
             "#fb9f3a"
            ],
            [
             0.8888888888888888,
             "#fdca26"
            ],
            [
             1,
             "#f0f921"
            ]
           ]
          },
          "colorway": [
           "#636efa",
           "#EF553B",
           "#00cc96",
           "#ab63fa",
           "#FFA15A",
           "#19d3f3",
           "#FF6692",
           "#B6E880",
           "#FF97FF",
           "#FECB52"
          ],
          "font": {
           "color": "#2a3f5f"
          },
          "geo": {
           "bgcolor": "white",
           "lakecolor": "white",
           "landcolor": "#E5ECF6",
           "showlakes": true,
           "showland": true,
           "subunitcolor": "white"
          },
          "hoverlabel": {
           "align": "left"
          },
          "hovermode": "closest",
          "mapbox": {
           "style": "light"
          },
          "paper_bgcolor": "white",
          "plot_bgcolor": "#E5ECF6",
          "polar": {
           "angularaxis": {
            "gridcolor": "white",
            "linecolor": "white",
            "ticks": ""
           },
           "bgcolor": "#E5ECF6",
           "radialaxis": {
            "gridcolor": "white",
            "linecolor": "white",
            "ticks": ""
           }
          },
          "scene": {
           "xaxis": {
            "backgroundcolor": "#E5ECF6",
            "gridcolor": "white",
            "gridwidth": 2,
            "linecolor": "white",
            "showbackground": true,
            "ticks": "",
            "zerolinecolor": "white"
           },
           "yaxis": {
            "backgroundcolor": "#E5ECF6",
            "gridcolor": "white",
            "gridwidth": 2,
            "linecolor": "white",
            "showbackground": true,
            "ticks": "",
            "zerolinecolor": "white"
           },
           "zaxis": {
            "backgroundcolor": "#E5ECF6",
            "gridcolor": "white",
            "gridwidth": 2,
            "linecolor": "white",
            "showbackground": true,
            "ticks": "",
            "zerolinecolor": "white"
           }
          },
          "shapedefaults": {
           "line": {
            "color": "#2a3f5f"
           }
          },
          "ternary": {
           "aaxis": {
            "gridcolor": "white",
            "linecolor": "white",
            "ticks": ""
           },
           "baxis": {
            "gridcolor": "white",
            "linecolor": "white",
            "ticks": ""
           },
           "bgcolor": "#E5ECF6",
           "caxis": {
            "gridcolor": "white",
            "linecolor": "white",
            "ticks": ""
           }
          },
          "title": {
           "x": 0.05
          },
          "xaxis": {
           "automargin": true,
           "gridcolor": "white",
           "linecolor": "white",
           "ticks": "",
           "title": {
            "standoff": 15
           },
           "zerolinecolor": "white",
           "zerolinewidth": 2
          },
          "yaxis": {
           "automargin": true,
           "gridcolor": "white",
           "linecolor": "white",
           "ticks": "",
           "title": {
            "standoff": 15
           },
           "zerolinecolor": "white",
           "zerolinewidth": 2
          }
         }
        },
        "title": {
         "text": "Population Density Over Time (Top-Ranked Country/Countries)"
        },
        "xaxis": {
         "anchor": "y",
         "domain": [
          0,
          1
         ],
         "title": {
          "text": "Year"
         }
        },
        "yaxis": {
         "anchor": "x",
         "domain": [
          0,
          1
         ],
         "title": {
          "text": "Population density (people per sq. km of land area)"
         }
        }
       }
      }
     },
     "metadata": {},
     "output_type": "display_data"
    }
   ],
   "source": [
    "import pandas as pd\n",
    "import plotly.express as px\n",
    "\n",
    "# Step 1: Filter\n",
    "pop_density_df = df[\n",
    "    df['Population density (people per sq. km of land area)'].notna()\n",
    "]\n",
    "\n",
    "# Step 2: Rank each year\n",
    "ranked = (\n",
    "    pop_density_df\n",
    "    .groupby('Year')\n",
    "    .apply(lambda g: g.assign(rank=g['Population density (people per sq. km of land area)'].rank(ascending=False)))\n",
    "    .reset_index(drop=True)\n",
    ")\n",
    "\n",
    "# Step 3: Compute average rank\n",
    "avg_ranks = (\n",
    "    ranked\n",
    "    .groupby('Country Name')['rank']\n",
    "    .mean()\n",
    "    .reset_index()\n",
    "    .rename(columns={'rank': 'average_rank'})\n",
    "    .sort_values(by='average_rank')\n",
    ")\n",
    "\n",
    "# Step 4: Identify top-ranked country (or countries)\n",
    "top_avg_rank = avg_ranks['average_rank'].min()\n",
    "top_countries = avg_ranks[avg_ranks['average_rank'] == top_avg_rank]['Country Name'].tolist()\n",
    "print(\"Top consistently ranked country/countries:\", top_countries)\n",
    "\n",
    "# Step 5: Visualize population density trend\n",
    "trend_data = df[\n",
    "    df['Country Name'].isin(top_countries)\n",
    "][['Year', 'Country Name', 'Population density (people per sq. km of land area)']]\n",
    "\n",
    "fig = px.line(\n",
    "    trend_data,\n",
    "    x='Year',\n",
    "    y='Population density (people per sq. km of land area)',\n",
    "    color='Country Name',\n",
    "    title='Population Density Over Time (Top-Ranked Country/Countries)',\n",
    "    markers=True\n",
    ")\n",
    "fig.update_traces(mode='lines+markers')\n",
    "fig.show()\n"
   ]
  },
  {
   "cell_type": "code",
   "execution_count": 71,
   "id": "c653c2f8-a27b-4dea-8a9a-af4d5f78f660",
   "metadata": {},
   "outputs": [
    {
     "name": "stdout",
     "output_type": "stream",
     "text": [
      "Country/countries with greatest life expectancy gain: ['Maldives']\n",
      "Year               1962       2007   increase\n",
      "Country Name                                 \n",
      "Maldives      38.483561  75.399707  36.916146\n"
     ]
    }
   ],
   "source": [
    "# What country (or countries) has shown the greatest increase in 'Life expectancy at birth, total (years)' between 1962 and 2007?\n",
    "import pandas as pd\n",
    "import plotly.express as px\n",
    "\n",
    "# Step 1: Filter for 1962 and 2007 data\n",
    "life_df = df[\n",
    "    (df['Year'].isin([1962, 2007])) &\n",
    "    (df['Life expectancy at birth, total (years)'].notna())\n",
    "]\n",
    "\n",
    "# Step 2: Pivot to calculate difference\n",
    "pivot = life_df.pivot_table(\n",
    "    index='Country Name',\n",
    "    columns='Year',\n",
    "    values='Life expectancy at birth, total (years)'\n",
    ").dropna()\n",
    "\n",
    "pivot['increase'] = pivot[2007] - pivot[1962]\n",
    "\n",
    "# Step 3: Find country/countries with greatest increase\n",
    "max_increase = pivot['increase'].max()\n",
    "top_countries = pivot[pivot['increase'] == max_increase].index.tolist()\n",
    "\n",
    "print(\"Country/countries with greatest life expectancy gain:\", top_countries)\n",
    "print(pivot.loc[top_countries])\n"
   ]
  },
  {
   "cell_type": "code",
   "execution_count": 72,
   "id": "d0657493-94b9-492e-be49-f2fe733e323e",
   "metadata": {},
   "outputs": [
    {
     "data": {
      "application/vnd.plotly.v1+json": {
       "config": {
        "plotlyServerURL": "https://plot.ly"
       },
       "data": [
        {
         "hovertemplate": "Country Name=Maldives<br>Year=%{x}<br>Life expectancy at birth, total (years)=%{y}<extra></extra>",
         "legendgroup": "Maldives",
         "line": {
          "color": "#636efa",
          "dash": "solid"
         },
         "marker": {
          "symbol": "circle"
         },
         "mode": "lines+markers",
         "name": "Maldives",
         "orientation": "v",
         "showlegend": true,
         "type": "scatter",
         "x": [
          1962,
          1967,
          1972,
          1977,
          1982,
          1987,
          1992,
          1997,
          2002,
          2007
         ],
         "xaxis": "x",
         "y": [
          38.4835609756,
          41.9146829268,
          45.7361463415,
          50.1271219512,
          54.8977317073,
          58.9744390244,
          63.0932926829,
          67.2780487805,
          71.929195122,
          75.3997073171
         ],
         "yaxis": "y"
        }
       ],
       "layout": {
        "legend": {
         "title": {
          "text": "Country Name"
         },
         "tracegroupgap": 0
        },
        "template": {
         "data": {
          "bar": [
           {
            "error_x": {
             "color": "#2a3f5f"
            },
            "error_y": {
             "color": "#2a3f5f"
            },
            "marker": {
             "line": {
              "color": "#E5ECF6",
              "width": 0.5
             },
             "pattern": {
              "fillmode": "overlay",
              "size": 10,
              "solidity": 0.2
             }
            },
            "type": "bar"
           }
          ],
          "barpolar": [
           {
            "marker": {
             "line": {
              "color": "#E5ECF6",
              "width": 0.5
             },
             "pattern": {
              "fillmode": "overlay",
              "size": 10,
              "solidity": 0.2
             }
            },
            "type": "barpolar"
           }
          ],
          "carpet": [
           {
            "aaxis": {
             "endlinecolor": "#2a3f5f",
             "gridcolor": "white",
             "linecolor": "white",
             "minorgridcolor": "white",
             "startlinecolor": "#2a3f5f"
            },
            "baxis": {
             "endlinecolor": "#2a3f5f",
             "gridcolor": "white",
             "linecolor": "white",
             "minorgridcolor": "white",
             "startlinecolor": "#2a3f5f"
            },
            "type": "carpet"
           }
          ],
          "choropleth": [
           {
            "colorbar": {
             "outlinewidth": 0,
             "ticks": ""
            },
            "type": "choropleth"
           }
          ],
          "contour": [
           {
            "colorbar": {
             "outlinewidth": 0,
             "ticks": ""
            },
            "colorscale": [
             [
              0,
              "#0d0887"
             ],
             [
              0.1111111111111111,
              "#46039f"
             ],
             [
              0.2222222222222222,
              "#7201a8"
             ],
             [
              0.3333333333333333,
              "#9c179e"
             ],
             [
              0.4444444444444444,
              "#bd3786"
             ],
             [
              0.5555555555555556,
              "#d8576b"
             ],
             [
              0.6666666666666666,
              "#ed7953"
             ],
             [
              0.7777777777777778,
              "#fb9f3a"
             ],
             [
              0.8888888888888888,
              "#fdca26"
             ],
             [
              1,
              "#f0f921"
             ]
            ],
            "type": "contour"
           }
          ],
          "contourcarpet": [
           {
            "colorbar": {
             "outlinewidth": 0,
             "ticks": ""
            },
            "type": "contourcarpet"
           }
          ],
          "heatmap": [
           {
            "colorbar": {
             "outlinewidth": 0,
             "ticks": ""
            },
            "colorscale": [
             [
              0,
              "#0d0887"
             ],
             [
              0.1111111111111111,
              "#46039f"
             ],
             [
              0.2222222222222222,
              "#7201a8"
             ],
             [
              0.3333333333333333,
              "#9c179e"
             ],
             [
              0.4444444444444444,
              "#bd3786"
             ],
             [
              0.5555555555555556,
              "#d8576b"
             ],
             [
              0.6666666666666666,
              "#ed7953"
             ],
             [
              0.7777777777777778,
              "#fb9f3a"
             ],
             [
              0.8888888888888888,
              "#fdca26"
             ],
             [
              1,
              "#f0f921"
             ]
            ],
            "type": "heatmap"
           }
          ],
          "heatmapgl": [
           {
            "colorbar": {
             "outlinewidth": 0,
             "ticks": ""
            },
            "colorscale": [
             [
              0,
              "#0d0887"
             ],
             [
              0.1111111111111111,
              "#46039f"
             ],
             [
              0.2222222222222222,
              "#7201a8"
             ],
             [
              0.3333333333333333,
              "#9c179e"
             ],
             [
              0.4444444444444444,
              "#bd3786"
             ],
             [
              0.5555555555555556,
              "#d8576b"
             ],
             [
              0.6666666666666666,
              "#ed7953"
             ],
             [
              0.7777777777777778,
              "#fb9f3a"
             ],
             [
              0.8888888888888888,
              "#fdca26"
             ],
             [
              1,
              "#f0f921"
             ]
            ],
            "type": "heatmapgl"
           }
          ],
          "histogram": [
           {
            "marker": {
             "pattern": {
              "fillmode": "overlay",
              "size": 10,
              "solidity": 0.2
             }
            },
            "type": "histogram"
           }
          ],
          "histogram2d": [
           {
            "colorbar": {
             "outlinewidth": 0,
             "ticks": ""
            },
            "colorscale": [
             [
              0,
              "#0d0887"
             ],
             [
              0.1111111111111111,
              "#46039f"
             ],
             [
              0.2222222222222222,
              "#7201a8"
             ],
             [
              0.3333333333333333,
              "#9c179e"
             ],
             [
              0.4444444444444444,
              "#bd3786"
             ],
             [
              0.5555555555555556,
              "#d8576b"
             ],
             [
              0.6666666666666666,
              "#ed7953"
             ],
             [
              0.7777777777777778,
              "#fb9f3a"
             ],
             [
              0.8888888888888888,
              "#fdca26"
             ],
             [
              1,
              "#f0f921"
             ]
            ],
            "type": "histogram2d"
           }
          ],
          "histogram2dcontour": [
           {
            "colorbar": {
             "outlinewidth": 0,
             "ticks": ""
            },
            "colorscale": [
             [
              0,
              "#0d0887"
             ],
             [
              0.1111111111111111,
              "#46039f"
             ],
             [
              0.2222222222222222,
              "#7201a8"
             ],
             [
              0.3333333333333333,
              "#9c179e"
             ],
             [
              0.4444444444444444,
              "#bd3786"
             ],
             [
              0.5555555555555556,
              "#d8576b"
             ],
             [
              0.6666666666666666,
              "#ed7953"
             ],
             [
              0.7777777777777778,
              "#fb9f3a"
             ],
             [
              0.8888888888888888,
              "#fdca26"
             ],
             [
              1,
              "#f0f921"
             ]
            ],
            "type": "histogram2dcontour"
           }
          ],
          "mesh3d": [
           {
            "colorbar": {
             "outlinewidth": 0,
             "ticks": ""
            },
            "type": "mesh3d"
           }
          ],
          "parcoords": [
           {
            "line": {
             "colorbar": {
              "outlinewidth": 0,
              "ticks": ""
             }
            },
            "type": "parcoords"
           }
          ],
          "pie": [
           {
            "automargin": true,
            "type": "pie"
           }
          ],
          "scatter": [
           {
            "fillpattern": {
             "fillmode": "overlay",
             "size": 10,
             "solidity": 0.2
            },
            "type": "scatter"
           }
          ],
          "scatter3d": [
           {
            "line": {
             "colorbar": {
              "outlinewidth": 0,
              "ticks": ""
             }
            },
            "marker": {
             "colorbar": {
              "outlinewidth": 0,
              "ticks": ""
             }
            },
            "type": "scatter3d"
           }
          ],
          "scattercarpet": [
           {
            "marker": {
             "colorbar": {
              "outlinewidth": 0,
              "ticks": ""
             }
            },
            "type": "scattercarpet"
           }
          ],
          "scattergeo": [
           {
            "marker": {
             "colorbar": {
              "outlinewidth": 0,
              "ticks": ""
             }
            },
            "type": "scattergeo"
           }
          ],
          "scattergl": [
           {
            "marker": {
             "colorbar": {
              "outlinewidth": 0,
              "ticks": ""
             }
            },
            "type": "scattergl"
           }
          ],
          "scattermapbox": [
           {
            "marker": {
             "colorbar": {
              "outlinewidth": 0,
              "ticks": ""
             }
            },
            "type": "scattermapbox"
           }
          ],
          "scatterpolar": [
           {
            "marker": {
             "colorbar": {
              "outlinewidth": 0,
              "ticks": ""
             }
            },
            "type": "scatterpolar"
           }
          ],
          "scatterpolargl": [
           {
            "marker": {
             "colorbar": {
              "outlinewidth": 0,
              "ticks": ""
             }
            },
            "type": "scatterpolargl"
           }
          ],
          "scatterternary": [
           {
            "marker": {
             "colorbar": {
              "outlinewidth": 0,
              "ticks": ""
             }
            },
            "type": "scatterternary"
           }
          ],
          "surface": [
           {
            "colorbar": {
             "outlinewidth": 0,
             "ticks": ""
            },
            "colorscale": [
             [
              0,
              "#0d0887"
             ],
             [
              0.1111111111111111,
              "#46039f"
             ],
             [
              0.2222222222222222,
              "#7201a8"
             ],
             [
              0.3333333333333333,
              "#9c179e"
             ],
             [
              0.4444444444444444,
              "#bd3786"
             ],
             [
              0.5555555555555556,
              "#d8576b"
             ],
             [
              0.6666666666666666,
              "#ed7953"
             ],
             [
              0.7777777777777778,
              "#fb9f3a"
             ],
             [
              0.8888888888888888,
              "#fdca26"
             ],
             [
              1,
              "#f0f921"
             ]
            ],
            "type": "surface"
           }
          ],
          "table": [
           {
            "cells": {
             "fill": {
              "color": "#EBF0F8"
             },
             "line": {
              "color": "white"
             }
            },
            "header": {
             "fill": {
              "color": "#C8D4E3"
             },
             "line": {
              "color": "white"
             }
            },
            "type": "table"
           }
          ]
         },
         "layout": {
          "annotationdefaults": {
           "arrowcolor": "#2a3f5f",
           "arrowhead": 0,
           "arrowwidth": 1
          },
          "autotypenumbers": "strict",
          "coloraxis": {
           "colorbar": {
            "outlinewidth": 0,
            "ticks": ""
           }
          },
          "colorscale": {
           "diverging": [
            [
             0,
             "#8e0152"
            ],
            [
             0.1,
             "#c51b7d"
            ],
            [
             0.2,
             "#de77ae"
            ],
            [
             0.3,
             "#f1b6da"
            ],
            [
             0.4,
             "#fde0ef"
            ],
            [
             0.5,
             "#f7f7f7"
            ],
            [
             0.6,
             "#e6f5d0"
            ],
            [
             0.7,
             "#b8e186"
            ],
            [
             0.8,
             "#7fbc41"
            ],
            [
             0.9,
             "#4d9221"
            ],
            [
             1,
             "#276419"
            ]
           ],
           "sequential": [
            [
             0,
             "#0d0887"
            ],
            [
             0.1111111111111111,
             "#46039f"
            ],
            [
             0.2222222222222222,
             "#7201a8"
            ],
            [
             0.3333333333333333,
             "#9c179e"
            ],
            [
             0.4444444444444444,
             "#bd3786"
            ],
            [
             0.5555555555555556,
             "#d8576b"
            ],
            [
             0.6666666666666666,
             "#ed7953"
            ],
            [
             0.7777777777777778,
             "#fb9f3a"
            ],
            [
             0.8888888888888888,
             "#fdca26"
            ],
            [
             1,
             "#f0f921"
            ]
           ],
           "sequentialminus": [
            [
             0,
             "#0d0887"
            ],
            [
             0.1111111111111111,
             "#46039f"
            ],
            [
             0.2222222222222222,
             "#7201a8"
            ],
            [
             0.3333333333333333,
             "#9c179e"
            ],
            [
             0.4444444444444444,
             "#bd3786"
            ],
            [
             0.5555555555555556,
             "#d8576b"
            ],
            [
             0.6666666666666666,
             "#ed7953"
            ],
            [
             0.7777777777777778,
             "#fb9f3a"
            ],
            [
             0.8888888888888888,
             "#fdca26"
            ],
            [
             1,
             "#f0f921"
            ]
           ]
          },
          "colorway": [
           "#636efa",
           "#EF553B",
           "#00cc96",
           "#ab63fa",
           "#FFA15A",
           "#19d3f3",
           "#FF6692",
           "#B6E880",
           "#FF97FF",
           "#FECB52"
          ],
          "font": {
           "color": "#2a3f5f"
          },
          "geo": {
           "bgcolor": "white",
           "lakecolor": "white",
           "landcolor": "#E5ECF6",
           "showlakes": true,
           "showland": true,
           "subunitcolor": "white"
          },
          "hoverlabel": {
           "align": "left"
          },
          "hovermode": "closest",
          "mapbox": {
           "style": "light"
          },
          "paper_bgcolor": "white",
          "plot_bgcolor": "#E5ECF6",
          "polar": {
           "angularaxis": {
            "gridcolor": "white",
            "linecolor": "white",
            "ticks": ""
           },
           "bgcolor": "#E5ECF6",
           "radialaxis": {
            "gridcolor": "white",
            "linecolor": "white",
            "ticks": ""
           }
          },
          "scene": {
           "xaxis": {
            "backgroundcolor": "#E5ECF6",
            "gridcolor": "white",
            "gridwidth": 2,
            "linecolor": "white",
            "showbackground": true,
            "ticks": "",
            "zerolinecolor": "white"
           },
           "yaxis": {
            "backgroundcolor": "#E5ECF6",
            "gridcolor": "white",
            "gridwidth": 2,
            "linecolor": "white",
            "showbackground": true,
            "ticks": "",
            "zerolinecolor": "white"
           },
           "zaxis": {
            "backgroundcolor": "#E5ECF6",
            "gridcolor": "white",
            "gridwidth": 2,
            "linecolor": "white",
            "showbackground": true,
            "ticks": "",
            "zerolinecolor": "white"
           }
          },
          "shapedefaults": {
           "line": {
            "color": "#2a3f5f"
           }
          },
          "ternary": {
           "aaxis": {
            "gridcolor": "white",
            "linecolor": "white",
            "ticks": ""
           },
           "baxis": {
            "gridcolor": "white",
            "linecolor": "white",
            "ticks": ""
           },
           "bgcolor": "#E5ECF6",
           "caxis": {
            "gridcolor": "white",
            "linecolor": "white",
            "ticks": ""
           }
          },
          "title": {
           "x": 0.05
          },
          "xaxis": {
           "automargin": true,
           "gridcolor": "white",
           "linecolor": "white",
           "ticks": "",
           "title": {
            "standoff": 15
           },
           "zerolinecolor": "white",
           "zerolinewidth": 2
          },
          "yaxis": {
           "automargin": true,
           "gridcolor": "white",
           "linecolor": "white",
           "ticks": "",
           "title": {
            "standoff": 15
           },
           "zerolinecolor": "white",
           "zerolinewidth": 2
          }
         }
        },
        "title": {
         "text": "Life Expectancy Trend (Top-Increase Country/Countries)"
        },
        "xaxis": {
         "anchor": "y",
         "domain": [
          0,
          1
         ],
         "title": {
          "text": "Year"
         }
        },
        "yaxis": {
         "anchor": "x",
         "domain": [
          0,
          1
         ],
         "title": {
          "text": "Life expectancy at birth, total (years)"
         }
        }
       }
      }
     },
     "metadata": {},
     "output_type": "display_data"
    }
   ],
   "source": [
    "# Step 4: Plot life expectancy trend for top countries\n",
    "trend_df = df[\n",
    "    (df['Country Name'].isin(top_countries)) &\n",
    "    (df['Life expectancy at birth, total (years)'].notna())\n",
    "]\n",
    "\n",
    "fig = px.line(\n",
    "    trend_df,\n",
    "    x='Year',\n",
    "    y='Life expectancy at birth, total (years)',\n",
    "    color='Country Name',\n",
    "    title='Life Expectancy Trend (Top-Increase Country/Countries)',\n",
    "    markers=True\n",
    ")\n",
    "fig.update_traces(mode='lines+markers')\n",
    "fig.show()"
   ]
  },
  {
   "cell_type": "code",
   "execution_count": null,
   "id": "1427aa45-455a-4664-93ec-07c9b69d8165",
   "metadata": {},
   "outputs": [],
   "source": []
  }
 ],
 "metadata": {
  "kernelspec": {
   "display_name": "base",
   "language": "python",
   "name": "python3"
  },
  "language_info": {
   "codemirror_mode": {
    "name": "ipython",
    "version": 3
   },
   "file_extension": ".py",
   "mimetype": "text/x-python",
   "name": "python",
   "nbconvert_exporter": "python",
   "pygments_lexer": "ipython3",
   "version": "3.12.4"
  }
 },
 "nbformat": 4,
 "nbformat_minor": 5
}
